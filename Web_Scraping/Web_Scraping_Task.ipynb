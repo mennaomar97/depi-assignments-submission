{
 "cells": [
  {
   "cell_type": "markdown",
   "id": "217b3fe6-225f-4452-91ea-85cffeb308a6",
   "metadata": {},
   "source": [
    "# Task Description:\n",
    "#### You are tasked to perform web scraping on a provided HTML page that contains different types of elements. The goal is to extract specific data from the page and process it into structured formats such as CSV or JSON.\n",
    "#### https://baraasalout.github.io/test.html "
   ]
  },
  {
   "cell_type": "code",
   "execution_count": 1,
   "id": "43d8e265-1756-4734-9c5c-312d37fcab5c",
   "metadata": {},
   "outputs": [],
   "source": [
    "import requests #to call infos from websites\n",
    "from bs4 import BeautifulSoup\n",
    "import csv\n",
    "import json"
   ]
  },
  {
   "cell_type": "code",
   "execution_count": 2,
   "id": "3c62acfa-0824-4bca-8f44-e2b6e7562ed2",
   "metadata": {},
   "outputs": [],
   "source": [
    "#get the website content/source\n",
    "url = 'https://baraasalout.github.io/test.html'\n",
    "website = requests.get(url)\n",
    "scr = website.content # get all the page data/informations as byte code\n",
    "soup = BeautifulSoup(scr, 'lxml') #get all the page data/informations as readable content"
   ]
  },
  {
   "cell_type": "markdown",
   "id": "ead5866b-2a17-4315-b0ce-bd166f73a18d",
   "metadata": {},
   "source": [
    "### 1. Extract Text Data:\n",
    " - Extract all headings (`<h1>`, `<h2>`).\n",
    " - Extract all text content inside `<p>` and `<li>` tags.\n",
    " - Save this data into a `Extract_Text_Data.CSV` file."
   ]
  },
  {
   "cell_type": "code",
   "execution_count": 3,
   "id": "3ed5dde6-f288-4b0f-8ffa-d5d0a383218f",
   "metadata": {},
   "outputs": [
    {
     "name": "stdout",
     "output_type": "stream",
     "text": [
      " Extract_Text_Data.CSV file created successfully!\n"
     ]
    }
   ],
   "source": [
    "#Extract all headings (<h1>, <h2>).\n",
    "# 1st method to get all the required headers\n",
    "def headers (soup):\n",
    "    # get all h1&h2 tags\n",
    "    header1= soup.find_all('h1') \n",
    "    header2= soup.find_all('h2') \n",
    "    #empty list to store the header h1&h2 text \n",
    "    header1_text = [] \n",
    "    header2_text = [] \n",
    "    #loop over the list of tags to get the text only\n",
    "    for header in header1: \n",
    "        text = header.text.strip()\n",
    "        header1_text.append(text)\n",
    "        \n",
    "    for header in header2: \n",
    "        text = header.text.strip()\n",
    "        header2_text.append(text)\n",
    "    return header1_text, header2_text\n",
    "\n",
    "#Extract all text content inside <p> and <li> tags\n",
    "# 2nd method to get all the required paragraphs and lists\n",
    "def paragraph_and_list(soup):\n",
    "    # get all p & li tags\n",
    "    paragraph = soup.find_all('p')\n",
    "    lists = soup.find_all('li')\n",
    "    #empty list to store the header p & li text\n",
    "    parg_text = []\n",
    "    list_text = []\n",
    "    #loop over the list of tags to get the text only\n",
    "    for p in paragraph:\n",
    "        text = p.text.strip()\n",
    "        parg_text.append(text)\n",
    "\n",
    "    for l in lists:\n",
    "        text = l.text.strip()\n",
    "        list_text.append(text)\n",
    "    return parg_text ,list_text\n",
    "\n",
    "#create the header of the table in the .csv file\n",
    "tableHeader = [\"Type\" , \"Content\"]\n",
    "\n",
    "#call the h1 & h2 tags method\n",
    "header1_text, header2_text = headers(soup)\n",
    "\n",
    "#call the p & li tags method\n",
    "parg_text ,list_text = paragraph_and_list(soup)\n",
    "\n",
    "#create a list of data rows of the .csv file\n",
    "rowsData = []\n",
    "for text in header1_text + header2_text:\n",
    "    rowsData.append({\"Type\": \"Heading\", \"Content\": text})\n",
    "\n",
    "for text in parg_text:\n",
    "    rowsData.append({\"Type\": \"Paragraph\", \"Content\": text})\n",
    "\n",
    "for text in list_text:\n",
    "    rowsData.append({\"Type\": \"List\", \"Content\": text})\n",
    "\n",
    "# Save this data into a Extract_Text_Data.CSV file.\n",
    "with open(r\"D:/2025/DEPI/git_repos/Web_Scraping/Extract_Text_Data.csv\",\"w\", newline=\"\", encoding=\"utf-8-sig\") as file:\n",
    "    dictionary_writer = csv.DictWriter(file,tableHeader )\n",
    "    dictionary_writer.writeheader()\n",
    "    dictionary_writer.writerows(rowsData)\n",
    "    print(\" Extract_Text_Data.CSV file created successfully!\")\n"
   ]
  },
  {
   "cell_type": "markdown",
   "id": "87c6eed2-ccda-4859-b5b1-0ea89ad5a4f7",
   "metadata": {},
   "source": [
    "### 2. Extract Table Data:\n",
    "- Extract data from the table, including:\n",
    "  - Product Name.\n",
    "  - Price.\n",
    "  - Stock Status.\n",
    "- Save this data into a `Extract_Table_Data.CSV` file.\n"
   ]
  },
  {
   "cell_type": "code",
   "execution_count": 4,
   "id": "b9a56c6d-e482-48d4-b431-1873f71da18a",
   "metadata": {},
   "outputs": [
    {
     "name": "stdout",
     "output_type": "stream",
     "text": [
      " Extract_Text_Data.CSV file created successfully!\n"
     ]
    }
   ],
   "source": [
    "#method to get the informations in the table\n",
    "def table_data (soup):\n",
    "    tables = soup.find_all('table')\n",
    "    #empty list to store the table header and body\n",
    "    table_head = []\n",
    "    table_body = []\n",
    "    row_data = []\n",
    "    for t in tables:\n",
    "        # find all the head tags\n",
    "        head = t.find_all('th') \n",
    "        #loop over the list of tags to get the text only\n",
    "        for h in head:\n",
    "            # return the head text only\n",
    "            text = h.text.strip() \n",
    "            # add the text to the list\n",
    "            table_head.append(text)\n",
    "\n",
    "    #loop over the list of tags to get the text only\n",
    "    for t in tables:\n",
    "        # find all the rows of the table\n",
    "        body = t.find_all('tr') \n",
    "        for b in body:\n",
    "            #find each cell of the row\n",
    "            all_td = b.find_all('td') \n",
    "            if all_td:\n",
    "                # return the cells text\n",
    "                row_data = [value.text.strip() for value in all_td]\n",
    "                # add the text to the list\n",
    "                table_body.append(row_data)\n",
    "       \n",
    "    #  Save this data into a Extract_Table_Data.CSV file.       \n",
    "    with open(r\"D:/2025/DEPI/git_repos/Web_Scraping/Extract_Table_Data.CSV.csv\",\"w\", newline=\"\", encoding=\"utf-8-sig\") as file:\n",
    "        writer = csv.writer(file)\n",
    "        writer.writerow(table_head)\n",
    "        writer.writerows(table_body)\n",
    "        print(\" Extract_Text_Data.CSV file created successfully!\")\n",
    "    \n",
    "\n",
    "table_data(soup)\n"
   ]
  },
  {
   "cell_type": "markdown",
   "id": "fc01cd3d-e296-44f8-a782-30ca3db67649",
   "metadata": {},
   "source": [
    "### 3. Extract Product Information (Cards Section):\n",
    "- Extract data from the book cards at the bottom of the page, including:\n",
    "    - Book Title.\n",
    "    - Price.\n",
    "    - Stock Availability.\n",
    "    - Button text (e.g., \"Add to basket\").\n",
    "- Save the data into a  Product_Information.JSON file.\n"
   ]
  },
  {
   "cell_type": "code",
   "execution_count": 5,
   "id": "866264b0-0991-4164-b096-a2c10d926ba6",
   "metadata": {},
   "outputs": [
    {
     "name": "stdout",
     "output_type": "stream",
     "text": [
      "Product_Information.JSON file created successfully!\n"
     ]
    }
   ],
   "source": [
    "# method to get the required data and create an output jason file\n",
    "def book_section (soup, output_file = 'Product_Information.JSON'):\n",
    "    #empty list to store the book title, price, stock availability <p>\n",
    "    parg_text = []\n",
    "    #empty list to store the bbutton text <button>\n",
    "    button_text = []\n",
    "\n",
    "    #go to the distination to get data\n",
    "    books = soup.find_all('div' , {'class' : 'book-products'})\n",
    "    #loop over the list of tags to get the text only\n",
    "    for p in books:\n",
    "        #find paragraphs\n",
    "        parg = p.find_all('p')\n",
    "        for text in parg:\n",
    "            #store the text value into the list\n",
    "            parg_text.append(text.text.strip())\n",
    "    #loop over the list of tags to get the text only\n",
    "    for b in books:\n",
    "        # find buttons\n",
    "        button = b.find_all('button')\n",
    "        for text in button:\n",
    "            #store the text value into the list\n",
    "            button_text.append(text.text.strip())\n",
    "\n",
    "    # store the data into dictionary to be sent to the .jason file\n",
    "    data = {\"paragrapgh\" : parg_text, \"button\" : button_text}\n",
    "\n",
    "    #Save the data into a Product_Information.JSON file.\n",
    "    with open(output_file, \"w\", encoding=\"utf-8\") as file:\n",
    "        json.dump(data, file, indent=4, ensure_ascii=False)\n",
    "        print(\"Product_Information.JSON file created successfully!\")\n",
    "\n",
    "\n",
    "book_section(soup)"
   ]
  },
  {
   "cell_type": "markdown",
   "id": "d924a0f4-76dd-41ac-8cfb-e3527187570e",
   "metadata": {},
   "source": [
    "### 4. Extract Form Details:\n",
    "- Extract all input fields from the form, including:\n",
    "    - Field name (e.g., username, password).\n",
    "    - Input type (e.g., text, password, checkbox, etc.).\n",
    "    - Default values, if any.\n",
    "- Save the data into a  JSON file.\n"
   ]
  },
  {
   "cell_type": "code",
   "execution_count": 6,
   "id": "b2ef30b8-1770-4f63-9692-fb23597f453d",
   "metadata": {},
   "outputs": [
    {
     "name": "stdout",
     "output_type": "stream",
     "text": [
      "Form.JSON file created successfully!\n"
     ]
    }
   ],
   "source": [
    "form_data = soup.find('form')\n",
    "# method to get the required data and create an output jason file\n",
    "def form_details (soup , output_file = 'Form.JSON'):\n",
    "    # epmty list to store input field names <label>\n",
    "    field_name = [] \n",
    "    #go to the labels\n",
    "    label = form_data.find_all('label')\n",
    "    #loop over the list of tags to get the text only\n",
    "    for l in label:\n",
    "        field_name.append(l.text.strip())\n",
    "\n",
    "    # epmty list to store input field types\n",
    "    input_type = []\n",
    "    #go to inputs\n",
    "    inp = form_data.find_all('input')\n",
    "    #loop over the list of tags to get the text only\n",
    "    for i in inp:\n",
    "        input_type.append(i.get('type'))\n",
    "        \n",
    "    # epmty list to store default values\n",
    "    def_values = []\n",
    "    # go to the select section\n",
    "    defualt = form_data.find_all('select')\n",
    "    for d in defualt:\n",
    "        #go to options as it has a default values\n",
    "        option = d.find_all('option')\n",
    "        #loop over the list of tags to get the text only\n",
    "        for o in option:\n",
    "            def_values.append(o.get('value'))\n",
    "\n",
    "    # store the data into dictionary to be sent to the .jason file\n",
    "    data = {\"Field Name\" : field_name,\n",
    "           \"Input Type\" : input_type,\n",
    "           \"Default Values\": def_values}\n",
    "    \n",
    "    # Save the data into a JSON file.\n",
    "    with open(output_file, \"w\", encoding=\"utf-8\") as file:\n",
    "        json.dump(data, file, indent=4, ensure_ascii=False)\n",
    "        print(\"Form.JSON file created successfully!\")\n",
    "\n",
    "form_details(soup)\n",
    "    "
   ]
  },
  {
   "cell_type": "markdown",
   "id": "b22699ed-460b-43fd-8cb9-5deebbd7fb6f",
   "metadata": {},
   "source": [
    "### 5. Extract Links and Multimedia:\n",
    "- Extract the video link from the `<iframe>` tag.\n",
    "- Save the data into a  JSON file.\n"
   ]
  },
  {
   "cell_type": "code",
   "execution_count": 7,
   "id": "9a6b09ca-b49b-41b6-a4f5-07ca5946bcdb",
   "metadata": {},
   "outputs": [
    {
     "name": "stdout",
     "output_type": "stream",
     "text": [
      "iFrame.JSON file created successfully!\n"
     ]
    }
   ],
   "source": [
    "# method to get the required data and create an output jason file\n",
    "def media (soup, output_file = 'iFrame.JSON'):\n",
    "    # got to iframe\n",
    "    video = soup.find('iframe')\n",
    "    # get the source ling\n",
    "    video_src = video.get('src')\n",
    "\n",
    "    # Save the data into a JSON file.\n",
    "    with open(output_file, \"w\", encoding=\"utf-8\") as file:\n",
    "        json.dump(video_src, file, indent=4, ensure_ascii=False)\n",
    "        print(\"iFrame.JSON file created successfully!\")\n",
    "\n",
    "media (soup)   "
   ]
  },
  {
   "cell_type": "markdown",
   "id": "fc359417-5df7-4655-a2c6-9d5f6614e5eb",
   "metadata": {},
   "source": [
    "### 6. Scraping Challenge:\n",
    "Students must write a script to extract data from the Featured Products section with the following requirements:\n",
    "- Product Name: Located within `<span class=\"name>`.\n",
    "- Hidden Price: Located within `<span class=\"price\">` , which has style=\"display: none;\".\n",
    "- Available Colors: Located within `<span class=\"colors\">`.\n",
    "- Product ID: The value stored in the `data-id` attribute.\n",
    "- Example Output:\n",
    "[\n",
    "    - {'id': '101', 'name': 'Wireless Headphones', 'price': '$49.99', 'colors': 'Black, White, Blue'},\n",
    "     {'id': '102', 'name': 'Smart Speaker', 'price': '$89.99', 'colors': 'Grey, Black'},\n",
    "      {'id': '103', 'name': 'Smart Watch', 'price': '$149.99', 'colors': 'Black, Silver, Gold'}\n",
    "]\n",
    "\n"
   ]
  },
  {
   "cell_type": "code",
   "execution_count": 8,
   "id": "79726a99-6fac-4727-9e50-6be429cc4bc2",
   "metadata": {},
   "outputs": [
    {
     "name": "stdout",
     "output_type": "stream",
     "text": [
      "[{'ID': '101', 'Name': 'Wireless Headphones', 'Price': '$49.99', 'Color': ' Black, White, Blue'}, {'ID': '102', 'Name': 'Smart Speaker', 'Price': '$89.99', 'Color': ' Grey, Black'}, {'ID': '103', 'Name': 'Smart Watch', 'Price': '$149.99', 'Color': ' Black, Silver, Gold'}]\n"
     ]
    }
   ],
   "source": [
    "# method to get the required data \n",
    "def featured_products(soup):\n",
    "    # go to the required div\n",
    "    f_products = soup.find_all('div' , {'class' : 'products'})\n",
    "    # empty list to store the output\n",
    "    data = []\n",
    "\n",
    "    # loop over the div to get list for each class\n",
    "    for i in range(len(f_products)):\n",
    "        card_id =  f_products[i].find_all('div' , {'class' : 'product-card'})\n",
    "        nameTag = f_products[i].find_all('p' , {'class' : 'name'})\n",
    "        priceTag = f_products[i].find_all('p' , {'class' : 'price'})\n",
    "        colorTag = f_products[i].find_all('p' , {'class' : 'colors'})\n",
    "        #loop over the list of tags to get the text only\n",
    "        for card , n , p , c in zip(card_id, nameTag,priceTag,colorTag):\n",
    "            data_id = card.get('data-id')\n",
    "            name = n.text.strip()\n",
    "            price = p.text.strip()\n",
    "            color = c.text.strip().replace(\"Available colors:\" , \"\") # delete this section to be as the required output\n",
    "\n",
    "            # store the data into the list\n",
    "            data.append ( {\"ID\" : data_id ,\"Name\" : name, \"Price\": price , \"Color\": color})\n",
    "        \n",
    "    print (data)\n",
    "\n",
    "featured_products(soup)"
   ]
  },
  {
   "cell_type": "code",
   "execution_count": null,
   "id": "22dfa15e-567f-433f-91ee-7f342732c36b",
   "metadata": {},
   "outputs": [],
   "source": []
  }
 ],
 "metadata": {
  "kernelspec": {
   "display_name": "Python [conda env:base]",
   "language": "python",
   "name": "conda-base-py"
  },
  "language_info": {
   "codemirror_mode": {
    "name": "ipython",
    "version": 3
   },
   "file_extension": ".py",
   "mimetype": "text/x-python",
   "name": "python",
   "nbconvert_exporter": "python",
   "pygments_lexer": "ipython3",
   "version": "3.13.5"
  }
 },
 "nbformat": 4,
 "nbformat_minor": 5
}
