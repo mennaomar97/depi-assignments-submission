{
 "cells": [
  {
   "cell_type": "markdown",
   "id": "aaa8242f-d065-46f3-9adc-44e100561164",
   "metadata": {},
   "source": [
    "## Exercises ➞ Level 3"
   ]
  },
  {
   "cell_type": "markdown",
   "id": "16f3f3e8-33d4-4aa9-9d48-9dfc495241da",
   "metadata": {},
   "source": [
    "### To access countries_details_data.py file"
   ]
  },
  {
   "cell_type": "code",
   "execution_count": 1,
   "id": "ba8912c7-ae3f-4a3e-96ed-bfbf2fc1f9a1",
   "metadata": {},
   "outputs": [],
   "source": [
    "from countries import countries\n",
    "from countries_details_dat import countries_data"
   ]
  },
  {
   "cell_type": "markdown",
   "id": "8f17e5f0-412b-42f3-a1b7-1b2b93245868",
   "metadata": {},
   "source": [
    "### Go to the data folder and use the countries.py file. Loop through the countries and extract all the countries containing the word land"
   ]
  },
  {
   "cell_type": "code",
   "execution_count": 4,
   "id": "3cae4b32-c0c8-4460-8eff-686d75005712",
   "metadata": {},
   "outputs": [
    {
     "name": "stdout",
     "output_type": "stream",
     "text": [
      "Finland\n",
      "Iceland\n",
      "Ireland\n",
      "Marshall Islands\n",
      "Netherlands\n",
      "New Zealand\n",
      "Poland\n",
      "Solomon Islands\n",
      "Swaziland\n",
      "Switzerland\n",
      "Thailand\n"
     ]
    }
   ],
   "source": [
    "for i in countries:\n",
    "    if 'land' in i:\n",
    "        print (i)"
   ]
  },
  {
   "cell_type": "markdown",
   "id": "02c49764-0fe8-484c-899b-ee3472e4bb68",
   "metadata": {},
   "source": [
    "### Go to the data folder and use the countries_details_data.py file."
   ]
  },
  {
   "cell_type": "markdown",
   "id": "2eaf0f2a-cf83-43bc-a2c0-5845c50fae17",
   "metadata": {},
   "source": [
    "#### What are the total number of languages in the data "
   ]
  },
  {
   "cell_type": "code",
   "execution_count": 92,
   "id": "49aed756-669b-4c95-8932-55b6bff30352",
   "metadata": {},
   "outputs": [
    {
     "name": "stdout",
     "output_type": "stream",
     "text": [
      "{'Marshallese', 'Vietnamese', 'Sinhalese', 'Māori', 'Turkish', 'Haitian', 'Afrikaans', 'Polish', 'Manx', 'Burmese', 'Sango', 'Lao', 'Chichewa', 'Chinese', 'Nepali', 'Japanese', 'Kurdish', 'Uzbek', 'Russian', 'Bosnian', 'Kyrgyz', 'Lingala', 'Divehi', 'Thai', 'English', 'Samoan', '(Eastern) Punjabi', 'Norwegian', 'Tamil', 'Northern Ndebele', 'Kinyarwanda', 'Albanian', 'Estonian', 'Kazakh', 'Tonga (Tonga Islands)', 'Kalaallisut', 'Aymara', 'Indonesian', 'Latvian', 'Malaysian', 'Czech', 'Dzongkha', 'Swahili', 'Icelandic', 'Slovene', 'Bengali', 'Tigrinya', 'Finnish', 'Portuguese', 'Kongo', 'Guaraní', 'Norwegian Nynorsk', 'Spanish', 'Maltese', 'German', 'Nauruan', 'Tajik', 'Fijian', 'Shona', 'Khmer', 'Chamorro', 'Norwegian Bokmål', 'Dutch', 'Hungarian', 'Luxembourgish', 'Swati', 'French', 'Catalan', 'Faroese', 'Quechua', 'Venda', 'Croatian', 'Malagasy', 'Irish', 'Mongolian', 'Azerbaijani', 'Georgian', 'Latin', 'Arabic', 'Luba-Katanga', 'Persian (Farsi)', 'Lithuanian', 'Somali', 'Armenian', 'Slovak', 'Fula', 'Italian', 'Amharic', 'Macedonian', 'Swedish', 'Southern Sotho', 'Bislama', 'Tswana', 'Serbian', 'Hebrew (modern)', 'Hindi', 'Xhosa', 'Bulgarian', 'Romanian', 'Danish', 'Turkmen', 'Kirundi', 'Zulu', 'Ukrainian', 'Malay', 'Southern Ndebele', 'Korean', 'Urdu', 'Pashto', 'Belarusian', 'Tsonga', 'Greek (modern)'}\n",
      "Number of languages are : 112\n"
     ]
    }
   ],
   "source": [
    "unique = set()\n",
    "for i in countries_data:\n",
    "    for lang in i[\"languages\"]:\n",
    "        unique.add(lang)\n",
    "print (unique)\n",
    "print (\"Number of languages are :\",len(unique))"
   ]
  },
  {
   "cell_type": "markdown",
   "id": "5446475d-f6bc-409f-a058-e1f55b40b648",
   "metadata": {},
   "source": [
    "#### Find the ten most spoken languages from the data"
   ]
  },
  {
   "cell_type": "code",
   "execution_count": 4,
   "id": "933318b7-aa3d-4a5b-8b6b-cdd36a1840c7",
   "metadata": {},
   "outputs": [
    {
     "name": "stdout",
     "output_type": "stream",
     "text": [
      "The most spoken languages are  [('English', 91), ('French', 45), ('Arabic', 25), ('Spanish', 24), ('Portuguese', 9), ('Russian', 9), ('Dutch', 8), ('German', 7), ('Chinese', 5), ('Serbian', 4)]\n"
     ]
    }
   ],
   "source": [
    "all_lang =  [] # create an empty list to store all languages\n",
    "for lang in countries_data: \n",
    "    all_lang.extend(lang[\"languages\"])\n",
    "counter = {} #create an empty dictionary to store language and no. of repeatation as a key and value\n",
    "for i in all_lang:\n",
    "    if i in counter:\n",
    "        counter[i] = counter[i] + 1\n",
    "    else:\n",
    "        counter [i] = 1\n",
    "counter = sorted(counter.items(), key=lambda item: item[1], reverse=True)\n",
    "print (\"The most spoken languages are \",list(counter)[0:10])"
   ]
  },
  {
   "cell_type": "markdown",
   "id": "62e44a05-600e-45e8-892a-7b1bed644133",
   "metadata": {},
   "source": [
    "#### Find the 10 most populated countries in the world "
   ]
  },
  {
   "cell_type": "code",
   "execution_count": 3,
   "id": "731b285a-022c-4b9e-922f-6fbcd20a93be",
   "metadata": {},
   "outputs": [
    {
     "name": "stdout",
     "output_type": "stream",
     "text": [
      "the 10 most populated countries in the world are\n",
      "  [('China', 1377422166), ('India', 1295210000), ('United States of America', 323947000), ('Indonesia', 258705000), ('Brazil', 206135893), ('Pakistan', 194125062), ('Nigeria', 186988000), ('Bangladesh', 161006790), ('Russian Federation', 146599183), ('Japan', 126960000)]\n"
     ]
    }
   ],
   "source": [
    "population = {}\n",
    "for j in countries_data:\n",
    "   # if \"name\" in j and \"population\" in j:\n",
    "        population[j[\"name\"]] = j[\"population\"]\n",
    "population = sorted(population.items(), key=lambda item: item[1], reverse=True)\n",
    "print (\"the 10 most populated countries in the world are\\n \",list(population)[0:10])"
   ]
  },
  {
   "cell_type": "markdown",
   "id": "ef145e87-48dc-46e4-8786-559ee96e1b75",
   "metadata": {},
   "source": [
    "### Print the following pattern using loops (bones)\n",
    "```py\n",
    "   0 x 0 = 0\n",
    "   1 x 1 = 1\n",
    "   2 x 2 = 4\n",
    "   3 x 3 = 9\n",
    "   4 x 4 = 16\n",
    "   5 x 5 = 25\n",
    "   6 x 6 = 36\n",
    "   7 x 7 = 49\n",
    "   8 x 8 = 64\n",
    "   9 x 9 = 81\n",
    "   10 x 10 = 100\n",
    "```"
   ]
  },
  {
   "cell_type": "code",
   "execution_count": 90,
   "id": "f2408507-1831-4e51-bbdd-45369096d9f5",
   "metadata": {},
   "outputs": [
    {
     "name": "stdout",
     "output_type": "stream",
     "text": [
      "0  *  0  =  0\n",
      "1  *  1  =  1\n",
      "2  *  2  =  4\n",
      "3  *  3  =  9\n",
      "4  *  4  =  16\n",
      "5  *  5  =  25\n",
      "6  *  6  =  36\n",
      "7  *  7  =  49\n",
      "8  *  8  =  64\n",
      "9  *  9  =  81\n",
      "10  *  10  =  100\n"
     ]
    }
   ],
   "source": [
    "num = 0\n",
    "for i in range (11):\n",
    "    result = num*i\n",
    "    print (num, \" * \", i, \" = \", result)\n",
    "    i+= i\n",
    "    num= num+1\n",
    "        "
   ]
  }
 ],
 "metadata": {
  "kernelspec": {
   "display_name": "Python [conda env:base]",
   "language": "python",
   "name": "conda-base-py"
  },
  "language_info": {
   "codemirror_mode": {
    "name": "ipython",
    "version": 3
   },
   "file_extension": ".py",
   "mimetype": "text/x-python",
   "name": "python",
   "nbconvert_exporter": "python",
   "pygments_lexer": "ipython3",
   "version": "3.13.5"
  }
 },
 "nbformat": 4,
 "nbformat_minor": 5
}
