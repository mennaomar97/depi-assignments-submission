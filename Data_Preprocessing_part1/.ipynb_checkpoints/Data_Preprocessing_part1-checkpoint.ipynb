{
 "cells": [
  {
   "cell_type": "markdown",
   "id": "e9d21982-f65c-488a-b8be-90ff2b9e9808",
   "metadata": {},
   "source": [
    "# Student dataset"
   ]
  },
  {
   "cell_type": "code",
   "execution_count": 2,
   "id": "ec8f897b-6e97-4092-868b-10280b9f679c",
   "metadata": {},
   "outputs": [],
   "source": [
    "import pandas as pd\n",
    "\n",
    "df = pd.read_csv(\"bi.csv\", encoding=\"ISO-8859-1\")"
   ]
  },
  {
   "cell_type": "markdown",
   "id": "dfb315bf-5e9d-485c-8aa5-0add0e872f94",
   "metadata": {},
   "source": [
    "### Check dataset structure: Use df.shape, df.info(), and df.head() to understand the number of rows, columns, and data types."
   ]
  },
  {
   "cell_type": "code",
   "execution_count": 3,
   "id": "dd27d84a-fa3c-4eb6-88ed-79460bc0b92b",
   "metadata": {},
   "outputs": [
    {
     "data": {
      "text/plain": [
       "(77, 11)"
      ]
     },
     "execution_count": 3,
     "metadata": {},
     "output_type": "execute_result"
    }
   ],
   "source": [
    "df.shape"
   ]
  },
  {
   "cell_type": "code",
   "execution_count": 4,
   "id": "c8ab0302-41e0-4081-861c-b55ffd1ffd62",
   "metadata": {},
   "outputs": [
    {
     "name": "stdout",
     "output_type": "stream",
     "text": [
      "<class 'pandas.core.frame.DataFrame'>\n",
      "RangeIndex: 77 entries, 0 to 76\n",
      "Data columns (total 11 columns):\n",
      " #   Column         Non-Null Count  Dtype  \n",
      "---  ------         --------------  -----  \n",
      " 0   fNAME          77 non-null     object \n",
      " 1   lNAME          77 non-null     object \n",
      " 2   Age            77 non-null     int64  \n",
      " 3   gender         77 non-null     object \n",
      " 4   country        77 non-null     object \n",
      " 5   residence      77 non-null     object \n",
      " 6   entryEXAM      77 non-null     int64  \n",
      " 7   prevEducation  77 non-null     object \n",
      " 8   studyHOURS     77 non-null     int64  \n",
      " 9   Python         75 non-null     float64\n",
      " 10  DB             77 non-null     int64  \n",
      "dtypes: float64(1), int64(4), object(6)\n",
      "memory usage: 6.7+ KB\n"
     ]
    }
   ],
   "source": [
    "df.info()"
   ]
  },
  {
   "cell_type": "code",
   "execution_count": 5,
   "id": "d6f248bf-7350-461a-b230-2efea080e5ea",
   "metadata": {},
   "outputs": [
    {
     "data": {
      "text/html": [
       "<div>\n",
       "<style scoped>\n",
       "    .dataframe tbody tr th:only-of-type {\n",
       "        vertical-align: middle;\n",
       "    }\n",
       "\n",
       "    .dataframe tbody tr th {\n",
       "        vertical-align: top;\n",
       "    }\n",
       "\n",
       "    .dataframe thead th {\n",
       "        text-align: right;\n",
       "    }\n",
       "</style>\n",
       "<table border=\"1\" class=\"dataframe\">\n",
       "  <thead>\n",
       "    <tr style=\"text-align: right;\">\n",
       "      <th></th>\n",
       "      <th>fNAME</th>\n",
       "      <th>lNAME</th>\n",
       "      <th>Age</th>\n",
       "      <th>gender</th>\n",
       "      <th>country</th>\n",
       "      <th>residence</th>\n",
       "      <th>entryEXAM</th>\n",
       "      <th>prevEducation</th>\n",
       "      <th>studyHOURS</th>\n",
       "      <th>Python</th>\n",
       "      <th>DB</th>\n",
       "    </tr>\n",
       "  </thead>\n",
       "  <tbody>\n",
       "    <tr>\n",
       "      <th>0</th>\n",
       "      <td>Christina</td>\n",
       "      <td>Binger</td>\n",
       "      <td>44</td>\n",
       "      <td>Female</td>\n",
       "      <td>Norway</td>\n",
       "      <td>Private</td>\n",
       "      <td>72</td>\n",
       "      <td>Masters</td>\n",
       "      <td>158</td>\n",
       "      <td>59.0</td>\n",
       "      <td>55</td>\n",
       "    </tr>\n",
       "    <tr>\n",
       "      <th>1</th>\n",
       "      <td>Alex</td>\n",
       "      <td>Walekhwa</td>\n",
       "      <td>60</td>\n",
       "      <td>M</td>\n",
       "      <td>Kenya</td>\n",
       "      <td>Private</td>\n",
       "      <td>79</td>\n",
       "      <td>Diploma</td>\n",
       "      <td>150</td>\n",
       "      <td>60.0</td>\n",
       "      <td>75</td>\n",
       "    </tr>\n",
       "    <tr>\n",
       "      <th>2</th>\n",
       "      <td>Philip</td>\n",
       "      <td>Leo</td>\n",
       "      <td>25</td>\n",
       "      <td>Male</td>\n",
       "      <td>Uganda</td>\n",
       "      <td>Sognsvann</td>\n",
       "      <td>55</td>\n",
       "      <td>HighSchool</td>\n",
       "      <td>130</td>\n",
       "      <td>74.0</td>\n",
       "      <td>50</td>\n",
       "    </tr>\n",
       "    <tr>\n",
       "      <th>3</th>\n",
       "      <td>Shoni</td>\n",
       "      <td>Hlongwane</td>\n",
       "      <td>22</td>\n",
       "      <td>F</td>\n",
       "      <td>Rsa</td>\n",
       "      <td>Sognsvann</td>\n",
       "      <td>40</td>\n",
       "      <td>High School</td>\n",
       "      <td>120</td>\n",
       "      <td>NaN</td>\n",
       "      <td>44</td>\n",
       "    </tr>\n",
       "    <tr>\n",
       "      <th>4</th>\n",
       "      <td>Maria</td>\n",
       "      <td>Kedibone</td>\n",
       "      <td>23</td>\n",
       "      <td>Female</td>\n",
       "      <td>South Africa</td>\n",
       "      <td>Sognsvann</td>\n",
       "      <td>65</td>\n",
       "      <td>High School</td>\n",
       "      <td>122</td>\n",
       "      <td>91.0</td>\n",
       "      <td>80</td>\n",
       "    </tr>\n",
       "  </tbody>\n",
       "</table>\n",
       "</div>"
      ],
      "text/plain": [
       "       fNAME      lNAME  Age  gender       country  residence  entryEXAM  \\\n",
       "0  Christina     Binger   44  Female        Norway    Private         72   \n",
       "1       Alex   Walekhwa   60       M         Kenya    Private         79   \n",
       "2     Philip        Leo   25    Male        Uganda  Sognsvann         55   \n",
       "3      Shoni  Hlongwane   22       F           Rsa  Sognsvann         40   \n",
       "4      Maria   Kedibone   23  Female  South Africa  Sognsvann         65   \n",
       "\n",
       "  prevEducation  studyHOURS  Python  DB  \n",
       "0       Masters         158    59.0  55  \n",
       "1       Diploma         150    60.0  75  \n",
       "2    HighSchool         130    74.0  50  \n",
       "3   High School         120     NaN  44  \n",
       "4   High School         122    91.0  80  "
      ]
     },
     "execution_count": 5,
     "metadata": {},
     "output_type": "execute_result"
    }
   ],
   "source": [
    "df.head()"
   ]
  },
  {
   "cell_type": "markdown",
   "id": "b08a6991-d7d7-425b-b8e6-355eab7a7eea",
   "metadata": {},
   "source": [
    "### Which columns should be categorical and which should be numerical?"
   ]
  },
  {
   "cell_type": "code",
   "execution_count": 7,
   "id": "5da278ef-4672-466d-b6cf-f19e6e6b86c1",
   "metadata": {},
   "outputs": [],
   "source": [
    "# Categorical Columns: (fNAME, lNAME, gender, country, residence, prevEducation)\n",
    "# Numerical Columns: (Age, entryEXAM, studyHOURS, Python, DB)"
   ]
  },
  {
   "cell_type": "markdown",
   "id": "f3ed9fa2-ef14-4bd1-80a1-20a35792e539",
   "metadata": {},
   "source": [
    "### Detect inconsistent categories"
   ]
  },
  {
   "cell_type": "markdown",
   "id": "a7734b9b-aea6-45a2-a1de-09a95a4a952d",
   "metadata": {},
   "source": [
    "#### Run df['gender'].unique(), df['country'].unique(), and df['prevEducation'].unique()."
   ]
  },
  {
   "cell_type": "code",
   "execution_count": 9,
   "id": "0de6aded-599c-4a62-9f3c-37f0447487a7",
   "metadata": {},
   "outputs": [
    {
     "name": "stdout",
     "output_type": "stream",
     "text": [
      "Gender: ['Female' 'M' 'Male' 'F' 'female' 'male']\n"
     ]
    }
   ],
   "source": [
    "print(\"Gender:\", df['gender'].unique())"
   ]
  },
  {
   "cell_type": "code",
   "execution_count": 10,
   "id": "657640be-6249-4f84-950c-efb8c5defb67",
   "metadata": {},
   "outputs": [
    {
     "name": "stdout",
     "output_type": "stream",
     "text": [
      "Country: ['Norway' 'Kenya' 'Uganda' 'Rsa' 'South Africa' 'Norge' 'norway' 'Denmark'\n",
      " 'Netherlands' 'Italy' 'Spain' 'UK' 'Somali' 'Nigeria' 'Germany' 'France']\n"
     ]
    }
   ],
   "source": [
    "print(\"Country:\", df['country'].unique())"
   ]
  },
  {
   "cell_type": "code",
   "execution_count": 11,
   "id": "6bb66567-a560-45dd-ad62-5c4f3ffb4179",
   "metadata": {},
   "outputs": [
    {
     "name": "stdout",
     "output_type": "stream",
     "text": [
      "Prev Education: ['Masters' 'Diploma' 'HighSchool' 'High School' 'Bachelors' 'Barrrchelors'\n",
      " 'diploma' 'DIPLOMA' 'Diplomaaa' 'Doctorate']\n"
     ]
    }
   ],
   "source": [
    "print(\"Prev Education:\", df['prevEducation'].unique())"
   ]
  },
  {
   "cell_type": "markdown",
   "id": "db1734b0-e3bf-47a6-81d3-d7a41e8ffcbf",
   "metadata": {},
   "source": [
    "#### Find issues such as \"Male\" vs \"M\" or \"Barrrchelors\" vs \"Bachelor\" (Fix them using .replace() or string methods like .str.upper().strip().)"
   ]
  },
  {
   "cell_type": "code",
   "execution_count": 13,
   "id": "7acf48f7-82c1-4d1c-9ca0-9a1a0230fa1d",
   "metadata": {},
   "outputs": [
    {
     "name": "stdout",
     "output_type": "stream",
     "text": [
      "Gender: ['Female' 'Male']\n"
     ]
    }
   ],
   "source": [
    "df['gender'] = df['gender'].replace({\n",
    "    'M': 'Male', 'male': 'Male',\n",
    "    'F': 'Female', 'female': 'Female'})\n",
    "print(\"Gender:\", df['gender'].unique())"
   ]
  },
  {
   "cell_type": "code",
   "execution_count": 14,
   "id": "35c080a3-4875-4176-8ea9-768d0d5305d5",
   "metadata": {},
   "outputs": [
    {
     "name": "stdout",
     "output_type": "stream",
     "text": [
      "Country: ['Norway' 'Kenya' 'Uganda' 'South Africa' 'Norge' 'Denmark' 'Netherlands'\n",
      " 'Italy' 'Spain' 'United Kingdom' 'Somali' 'Nigeria' 'Germany' 'France']\n"
     ]
    }
   ],
   "source": [
    "df['country'] = df['country'].replace({\n",
    "    'Rsa': 'South Africa', 'UK': 'United Kingdom','norway': 'Norway'})\n",
    "print(\"Country:\", df['country'].unique())"
   ]
  },
  {
   "cell_type": "code",
   "execution_count": 17,
   "id": "7bfe414d-312b-45a0-8577-725027695d14",
   "metadata": {},
   "outputs": [
    {
     "name": "stdout",
     "output_type": "stream",
     "text": [
      "Prev Education: ['Masters' 'Diploma' 'High School' 'Bachelors' 'Doctorate']\n"
     ]
    }
   ],
   "source": [
    "df['prevEducation'] = df['prevEducation'].replace({\n",
    "    'HighSchool': 'High School',\n",
    "    'Barrrchelors': 'Bachelors',\n",
    "    'diploma': 'Diploma',\n",
    "    'DIPLOMA': 'Diploma',\n",
    "    'Diplomaaa': 'Diploma'})\n",
    "print(\"Prev Education:\", df['prevEducation'].unique())"
   ]
  },
  {
   "cell_type": "markdown",
   "id": "e59031a9-f910-4cb1-b779-7ba2911a228e",
   "metadata": {},
   "source": [
    "### Handle duplicates"
   ]
  },
  {
   "cell_type": "markdown",
   "id": "bdd2d726-b052-40fc-ae67-8cb7488f7a5a",
   "metadata": {},
   "source": [
    "#### Check for duplicates with df.duplicated().sum()."
   ]
  },
  {
   "cell_type": "code",
   "execution_count": 18,
   "id": "85a1843a-850f-4d5c-8a0a-0565d615cd71",
   "metadata": {},
   "outputs": [
    {
     "name": "stdout",
     "output_type": "stream",
     "text": [
      "Duplicates found: 0\n"
     ]
    }
   ],
   "source": [
    "print(\"Duplicates found:\", df.duplicated().sum())"
   ]
  },
  {
   "cell_type": "markdown",
   "id": "ca85bee3-9aae-4b33-88bc-fbade9501fa5",
   "metadata": {},
   "source": [
    "#### Drop them using df.drop_duplicates()."
   ]
  },
  {
   "cell_type": "code",
   "execution_count": null,
   "id": "17e58bbc-1b61-4eb4-8b4d-0fe95d5e367d",
   "metadata": {},
   "outputs": [],
   "source": [
    "# No need as there is no duplicates"
   ]
  }
 ],
 "metadata": {
  "kernelspec": {
   "display_name": "Python [conda env:base]",
   "language": "python",
   "name": "conda-base-py"
  },
  "language_info": {
   "codemirror_mode": {
    "name": "ipython",
    "version": 3
   },
   "file_extension": ".py",
   "mimetype": "text/x-python",
   "name": "python",
   "nbconvert_exporter": "python",
   "pygments_lexer": "ipython3",
   "version": "3.13.5"
  }
 },
 "nbformat": 4,
 "nbformat_minor": 5
}
