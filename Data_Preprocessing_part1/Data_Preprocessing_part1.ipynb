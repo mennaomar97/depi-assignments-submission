{
 "cells": [
  {
   "cell_type": "markdown",
   "id": "e9d21982-f65c-488a-b8be-90ff2b9e9808",
   "metadata": {},
   "source": [
    "# Student dataset - Level 1"
   ]
  },
  {
   "cell_type": "code",
   "execution_count": 75,
   "id": "ec8f897b-6e97-4092-868b-10280b9f679c",
   "metadata": {},
   "outputs": [],
   "source": [
    "import pandas as pd\n",
    "\n",
    "student_df = pd.read_csv(\"bi.csv\", encoding=\"ISO-8859-1\")\n",
    "# Create the df for cleaned data\n",
    "df = student_df.copy()"
   ]
  },
  {
   "cell_type": "markdown",
   "id": "01e0a71b-7166-46fa-93a4-a9c65078a1f8",
   "metadata": {},
   "source": [
    "## Part 1 – Data Cleaning"
   ]
  },
  {
   "cell_type": "markdown",
   "id": "dfb315bf-5e9d-485c-8aa5-0add0e872f94",
   "metadata": {},
   "source": [
    "### 1. Check dataset structure"
   ]
  },
  {
   "cell_type": "markdown",
   "id": "f1b09700-f518-4e58-a075-fa2720da0890",
   "metadata": {},
   "source": [
    "### Use df.shape, df.info(), and df.head() to understand the number of rows, columns, and data types."
   ]
  },
  {
   "cell_type": "code",
   "execution_count": 2,
   "id": "dd27d84a-fa3c-4eb6-88ed-79460bc0b92b",
   "metadata": {},
   "outputs": [
    {
     "data": {
      "text/plain": [
       "(77, 11)"
      ]
     },
     "execution_count": 2,
     "metadata": {},
     "output_type": "execute_result"
    }
   ],
   "source": [
    "df.shape"
   ]
  },
  {
   "cell_type": "code",
   "execution_count": 3,
   "id": "c8ab0302-41e0-4081-861c-b55ffd1ffd62",
   "metadata": {},
   "outputs": [
    {
     "name": "stdout",
     "output_type": "stream",
     "text": [
      "<class 'pandas.core.frame.DataFrame'>\n",
      "RangeIndex: 77 entries, 0 to 76\n",
      "Data columns (total 11 columns):\n",
      " #   Column         Non-Null Count  Dtype  \n",
      "---  ------         --------------  -----  \n",
      " 0   fNAME          77 non-null     object \n",
      " 1   lNAME          77 non-null     object \n",
      " 2   Age            77 non-null     int64  \n",
      " 3   gender         77 non-null     object \n",
      " 4   country        77 non-null     object \n",
      " 5   residence      77 non-null     object \n",
      " 6   entryEXAM      77 non-null     int64  \n",
      " 7   prevEducation  77 non-null     object \n",
      " 8   studyHOURS     77 non-null     int64  \n",
      " 9   Python         75 non-null     float64\n",
      " 10  DB             77 non-null     int64  \n",
      "dtypes: float64(1), int64(4), object(6)\n",
      "memory usage: 6.7+ KB\n"
     ]
    }
   ],
   "source": [
    "df.info()"
   ]
  },
  {
   "cell_type": "code",
   "execution_count": 4,
   "id": "d6f248bf-7350-461a-b230-2efea080e5ea",
   "metadata": {},
   "outputs": [
    {
     "data": {
      "text/html": [
       "<div>\n",
       "<style scoped>\n",
       "    .dataframe tbody tr th:only-of-type {\n",
       "        vertical-align: middle;\n",
       "    }\n",
       "\n",
       "    .dataframe tbody tr th {\n",
       "        vertical-align: top;\n",
       "    }\n",
       "\n",
       "    .dataframe thead th {\n",
       "        text-align: right;\n",
       "    }\n",
       "</style>\n",
       "<table border=\"1\" class=\"dataframe\">\n",
       "  <thead>\n",
       "    <tr style=\"text-align: right;\">\n",
       "      <th></th>\n",
       "      <th>fNAME</th>\n",
       "      <th>lNAME</th>\n",
       "      <th>Age</th>\n",
       "      <th>gender</th>\n",
       "      <th>country</th>\n",
       "      <th>residence</th>\n",
       "      <th>entryEXAM</th>\n",
       "      <th>prevEducation</th>\n",
       "      <th>studyHOURS</th>\n",
       "      <th>Python</th>\n",
       "      <th>DB</th>\n",
       "    </tr>\n",
       "  </thead>\n",
       "  <tbody>\n",
       "    <tr>\n",
       "      <th>0</th>\n",
       "      <td>Christina</td>\n",
       "      <td>Binger</td>\n",
       "      <td>44</td>\n",
       "      <td>Female</td>\n",
       "      <td>Norway</td>\n",
       "      <td>Private</td>\n",
       "      <td>72</td>\n",
       "      <td>Masters</td>\n",
       "      <td>158</td>\n",
       "      <td>59.0</td>\n",
       "      <td>55</td>\n",
       "    </tr>\n",
       "    <tr>\n",
       "      <th>1</th>\n",
       "      <td>Alex</td>\n",
       "      <td>Walekhwa</td>\n",
       "      <td>60</td>\n",
       "      <td>M</td>\n",
       "      <td>Kenya</td>\n",
       "      <td>Private</td>\n",
       "      <td>79</td>\n",
       "      <td>Diploma</td>\n",
       "      <td>150</td>\n",
       "      <td>60.0</td>\n",
       "      <td>75</td>\n",
       "    </tr>\n",
       "    <tr>\n",
       "      <th>2</th>\n",
       "      <td>Philip</td>\n",
       "      <td>Leo</td>\n",
       "      <td>25</td>\n",
       "      <td>Male</td>\n",
       "      <td>Uganda</td>\n",
       "      <td>Sognsvann</td>\n",
       "      <td>55</td>\n",
       "      <td>HighSchool</td>\n",
       "      <td>130</td>\n",
       "      <td>74.0</td>\n",
       "      <td>50</td>\n",
       "    </tr>\n",
       "    <tr>\n",
       "      <th>3</th>\n",
       "      <td>Shoni</td>\n",
       "      <td>Hlongwane</td>\n",
       "      <td>22</td>\n",
       "      <td>F</td>\n",
       "      <td>Rsa</td>\n",
       "      <td>Sognsvann</td>\n",
       "      <td>40</td>\n",
       "      <td>High School</td>\n",
       "      <td>120</td>\n",
       "      <td>NaN</td>\n",
       "      <td>44</td>\n",
       "    </tr>\n",
       "    <tr>\n",
       "      <th>4</th>\n",
       "      <td>Maria</td>\n",
       "      <td>Kedibone</td>\n",
       "      <td>23</td>\n",
       "      <td>Female</td>\n",
       "      <td>South Africa</td>\n",
       "      <td>Sognsvann</td>\n",
       "      <td>65</td>\n",
       "      <td>High School</td>\n",
       "      <td>122</td>\n",
       "      <td>91.0</td>\n",
       "      <td>80</td>\n",
       "    </tr>\n",
       "  </tbody>\n",
       "</table>\n",
       "</div>"
      ],
      "text/plain": [
       "       fNAME      lNAME  Age  gender       country  residence  entryEXAM  \\\n",
       "0  Christina     Binger   44  Female        Norway    Private         72   \n",
       "1       Alex   Walekhwa   60       M         Kenya    Private         79   \n",
       "2     Philip        Leo   25    Male        Uganda  Sognsvann         55   \n",
       "3      Shoni  Hlongwane   22       F           Rsa  Sognsvann         40   \n",
       "4      Maria   Kedibone   23  Female  South Africa  Sognsvann         65   \n",
       "\n",
       "  prevEducation  studyHOURS  Python  DB  \n",
       "0       Masters         158    59.0  55  \n",
       "1       Diploma         150    60.0  75  \n",
       "2    HighSchool         130    74.0  50  \n",
       "3   High School         120     NaN  44  \n",
       "4   High School         122    91.0  80  "
      ]
     },
     "execution_count": 4,
     "metadata": {},
     "output_type": "execute_result"
    }
   ],
   "source": [
    "df.head()"
   ]
  },
  {
   "cell_type": "markdown",
   "id": "b08a6991-d7d7-425b-b8e6-355eab7a7eea",
   "metadata": {},
   "source": [
    "#### Which columns should be categorical and which should be numerical?"
   ]
  },
  {
   "cell_type": "markdown",
   "id": "45eb6292-0e9a-4f18-a59b-91907d75cc0f",
   "metadata": {},
   "source": [
    "##### Categorical Columns: (fNAME, lNAME, gender, country, residence, prevEducation)\n",
    "##### Numerical Columns: (Age, entryEXAM, studyHOURS, Python, DB)"
   ]
  },
  {
   "cell_type": "markdown",
   "id": "f3ed9fa2-ef14-4bd1-80a1-20a35792e539",
   "metadata": {},
   "source": [
    "### 2. Detect inconsistent categories"
   ]
  },
  {
   "cell_type": "markdown",
   "id": "a7734b9b-aea6-45a2-a1de-09a95a4a952d",
   "metadata": {},
   "source": [
    "#### Run df['gender'].unique(), df['country'].unique(), and df['prevEducation'].unique()."
   ]
  },
  {
   "cell_type": "code",
   "execution_count": 5,
   "id": "0de6aded-599c-4a62-9f3c-37f0447487a7",
   "metadata": {},
   "outputs": [
    {
     "name": "stdout",
     "output_type": "stream",
     "text": [
      "Gender: ['Female' 'M' 'Male' 'F' 'female' 'male']\n"
     ]
    }
   ],
   "source": [
    "print(\"Gender:\", df['gender'].unique())"
   ]
  },
  {
   "cell_type": "markdown",
   "id": "a354f08f-278e-46c2-8849-84ce89775207",
   "metadata": {},
   "source": [
    "###### Male & Female are repeated in different fotmats"
   ]
  },
  {
   "cell_type": "code",
   "execution_count": 6,
   "id": "657640be-6249-4f84-950c-efb8c5defb67",
   "metadata": {},
   "outputs": [
    {
     "name": "stdout",
     "output_type": "stream",
     "text": [
      "Country: ['Norway' 'Kenya' 'Uganda' 'Rsa' 'South Africa' 'Norge' 'norway' 'Denmark'\n",
      " 'Netherlands' 'Italy' 'Spain' 'UK' 'Somali' 'Nigeria' 'Germany' 'France']\n"
     ]
    }
   ],
   "source": [
    "print(\"Country:\", df['country'].unique())"
   ]
  },
  {
   "cell_type": "markdown",
   "id": "c1ff42b7-7df6-419c-b39a-e977ddebfa97",
   "metadata": {},
   "source": [
    "###### South Africa is written as Rsa, United Kingdom is written as UK, Norway is written as norway"
   ]
  },
  {
   "cell_type": "code",
   "execution_count": 7,
   "id": "6bb66567-a560-45dd-ad62-5c4f3ffb4179",
   "metadata": {},
   "outputs": [
    {
     "name": "stdout",
     "output_type": "stream",
     "text": [
      "Prev Education: ['Masters' 'Diploma' 'HighSchool' 'High School' 'Bachelors' 'Barrrchelors'\n",
      " 'diploma' 'DIPLOMA' 'Diplomaaa' 'Doctorate']\n"
     ]
    }
   ],
   "source": [
    "print(\"Prev Education:\", df['prevEducation'].unique())"
   ]
  },
  {
   "cell_type": "markdown",
   "id": "8e73d1ea-3b49-43df-8521-ae805d6f5168",
   "metadata": {},
   "source": [
    "###### Diploma, high school, and Bachelors formats are not correct"
   ]
  },
  {
   "cell_type": "markdown",
   "id": "db1734b0-e3bf-47a6-81d3-d7a41e8ffcbf",
   "metadata": {},
   "source": [
    "#### Find issues such as \"Male\" vs \"M\" or \"Barrrchelors\" vs \"Bachelor\" (Fix them using .replace() or string methods like .str.upper().strip().)"
   ]
  },
  {
   "cell_type": "code",
   "execution_count": 76,
   "id": "7acf48f7-82c1-4d1c-9ca0-9a1a0230fa1d",
   "metadata": {},
   "outputs": [
    {
     "name": "stdout",
     "output_type": "stream",
     "text": [
      "Gender: ['Female' 'Male']\n"
     ]
    }
   ],
   "source": [
    "df['gender'] = df['gender'].replace({\n",
    "    'M': 'Male', 'male': 'Male',\n",
    "    'F': 'Female', 'female': 'Female'})\n",
    "print(\"Gender:\", df['gender'].unique())"
   ]
  },
  {
   "cell_type": "code",
   "execution_count": 77,
   "id": "35c080a3-4875-4176-8ea9-768d0d5305d5",
   "metadata": {},
   "outputs": [
    {
     "name": "stdout",
     "output_type": "stream",
     "text": [
      "Country: ['Norway' 'Kenya' 'Uganda' 'South Africa' 'Norge' 'Denmark' 'Netherlands'\n",
      " 'Italy' 'Spain' 'United Kingdom' 'Somali' 'Nigeria' 'Germany' 'France']\n"
     ]
    }
   ],
   "source": [
    "df['country'] = df['country'].replace({\n",
    "    'Rsa': 'South Africa', 'UK': 'United Kingdom','norway': 'Norway'})\n",
    "print(\"Country:\", df['country'].unique())"
   ]
  },
  {
   "cell_type": "code",
   "execution_count": 78,
   "id": "7bfe414d-312b-45a0-8577-725027695d14",
   "metadata": {},
   "outputs": [
    {
     "name": "stdout",
     "output_type": "stream",
     "text": [
      "Prev Education: ['Masters' 'Diploma' 'High School' 'Bachelors' 'Doctorate']\n"
     ]
    }
   ],
   "source": [
    "df['prevEducation'] = df['prevEducation'].replace({\n",
    "    'HighSchool': 'High School',\n",
    "    'Barrrchelors': 'Bachelors',\n",
    "    'diploma': 'Diploma',\n",
    "    'DIPLOMA': 'Diploma',\n",
    "    'Diplomaaa': 'Diploma'})\n",
    "print(\"Prev Education:\", df['prevEducation'].unique())"
   ]
  },
  {
   "cell_type": "markdown",
   "id": "e59031a9-f910-4cb1-b779-7ba2911a228e",
   "metadata": {},
   "source": [
    "### 3. Handle duplicates"
   ]
  },
  {
   "cell_type": "markdown",
   "id": "bdd2d726-b052-40fc-ae67-8cb7488f7a5a",
   "metadata": {},
   "source": [
    "#### Check for duplicates with df.duplicated().sum()."
   ]
  },
  {
   "cell_type": "code",
   "execution_count": 79,
   "id": "85a1843a-850f-4d5c-8a0a-0565d615cd71",
   "metadata": {},
   "outputs": [
    {
     "name": "stdout",
     "output_type": "stream",
     "text": [
      "Duplicates found: 0\n"
     ]
    }
   ],
   "source": [
    "print(\"Duplicates found:\", df.duplicated().sum())"
   ]
  },
  {
   "cell_type": "markdown",
   "id": "ca85bee3-9aae-4b33-88bc-fbade9501fa5",
   "metadata": {},
   "source": [
    "#### Drop them using df.drop_duplicates()."
   ]
  },
  {
   "cell_type": "code",
   "execution_count": 12,
   "id": "17e58bbc-1b61-4eb4-8b4d-0fe95d5e367d",
   "metadata": {},
   "outputs": [],
   "source": [
    "# No need as there is no duplicates"
   ]
  },
  {
   "cell_type": "code",
   "execution_count": null,
   "id": "33ba851a-3389-472e-9cb7-1e9ce7d1863d",
   "metadata": {},
   "outputs": [],
   "source": []
  },
  {
   "cell_type": "markdown",
   "id": "8f29d713-39b2-4602-b00f-64534928ea71",
   "metadata": {},
   "source": [
    "## Part 2 – Missing Data"
   ]
  },
  {
   "cell_type": "markdown",
   "id": "bfd886c2-acec-474f-aca1-5a328e3569d5",
   "metadata": {},
   "source": [
    "### 1. Identify missing values"
   ]
  },
  {
   "cell_type": "markdown",
   "id": "5b083bd6-a08a-4c03-a519-06e2ad23d0ee",
   "metadata": {},
   "source": [
    "#### Use df.isnull().sum() to see which columns have missing data."
   ]
  },
  {
   "cell_type": "code",
   "execution_count": 80,
   "id": "17c959a6-add7-4faf-a711-8404a75b382e",
   "metadata": {},
   "outputs": [
    {
     "data": {
      "text/plain": [
       "fNAME            0\n",
       "lNAME            0\n",
       "Age              0\n",
       "gender           0\n",
       "country          0\n",
       "residence        0\n",
       "entryEXAM        0\n",
       "prevEducation    0\n",
       "studyHOURS       0\n",
       "Python           2\n",
       "DB               0\n",
       "dtype: int64"
      ]
     },
     "execution_count": 80,
     "metadata": {},
     "output_type": "execute_result"
    }
   ],
   "source": [
    "df.isnull().sum()"
   ]
  },
  {
   "cell_type": "markdown",
   "id": "5a155979-e6de-4196-8ba9-7ac0445f4158",
   "metadata": {},
   "source": [
    "#### Question: Which columns are most affected by missing values?"
   ]
  },
  {
   "cell_type": "markdown",
   "id": "35074647-cf3e-47b6-a382-8fd37a504957",
   "metadata": {},
   "source": [
    "###### 'Python' is most affected column so far, but it could be more missing values/not correct."
   ]
  },
  {
   "cell_type": "markdown",
   "id": "5195a303-0529-405a-963e-92280e3d011f",
   "metadata": {},
   "source": [
    "### 2. Impute missing values"
   ]
  },
  {
   "cell_type": "markdown",
   "id": "61e5ee74-fcc4-4ad4-abeb-59fe08b17b0b",
   "metadata": {},
   "source": [
    "#### Option 1 (Numerical): Fill missing scores in Python or DB using mean or median."
   ]
  },
  {
   "cell_type": "code",
   "execution_count": 81,
   "id": "79c7e834-bcfd-4249-b95a-112d532a9669",
   "metadata": {},
   "outputs": [
    {
     "data": {
      "text/html": [
       "<div>\n",
       "<style scoped>\n",
       "    .dataframe tbody tr th:only-of-type {\n",
       "        vertical-align: middle;\n",
       "    }\n",
       "\n",
       "    .dataframe tbody tr th {\n",
       "        vertical-align: top;\n",
       "    }\n",
       "\n",
       "    .dataframe thead th {\n",
       "        text-align: right;\n",
       "    }\n",
       "</style>\n",
       "<table border=\"1\" class=\"dataframe\">\n",
       "  <thead>\n",
       "    <tr style=\"text-align: right;\">\n",
       "      <th></th>\n",
       "      <th>fNAME</th>\n",
       "      <th>lNAME</th>\n",
       "      <th>Age</th>\n",
       "      <th>gender</th>\n",
       "      <th>country</th>\n",
       "      <th>residence</th>\n",
       "      <th>entryEXAM</th>\n",
       "      <th>prevEducation</th>\n",
       "      <th>studyHOURS</th>\n",
       "      <th>Python</th>\n",
       "      <th>DB</th>\n",
       "    </tr>\n",
       "  </thead>\n",
       "  <tbody>\n",
       "    <tr>\n",
       "      <th>3</th>\n",
       "      <td>Shoni</td>\n",
       "      <td>Hlongwane</td>\n",
       "      <td>22</td>\n",
       "      <td>Female</td>\n",
       "      <td>South Africa</td>\n",
       "      <td>Sognsvann</td>\n",
       "      <td>40</td>\n",
       "      <td>High School</td>\n",
       "      <td>120</td>\n",
       "      <td>NaN</td>\n",
       "      <td>44</td>\n",
       "    </tr>\n",
       "    <tr>\n",
       "      <th>33</th>\n",
       "      <td>Frank</td>\n",
       "      <td>Abrahamsen</td>\n",
       "      <td>23</td>\n",
       "      <td>Male</td>\n",
       "      <td>Norway</td>\n",
       "      <td>BI Residence</td>\n",
       "      <td>68</td>\n",
       "      <td>High School</td>\n",
       "      <td>152</td>\n",
       "      <td>NaN</td>\n",
       "      <td>70</td>\n",
       "    </tr>\n",
       "  </tbody>\n",
       "</table>\n",
       "</div>"
      ],
      "text/plain": [
       "    fNAME       lNAME  Age  gender       country     residence  entryEXAM  \\\n",
       "3   Shoni   Hlongwane   22  Female  South Africa     Sognsvann         40   \n",
       "33  Frank  Abrahamsen   23    Male        Norway  BI Residence         68   \n",
       "\n",
       "   prevEducation  studyHOURS  Python  DB  \n",
       "3    High School         120     NaN  44  \n",
       "33   High School         152     NaN  70  "
      ]
     },
     "execution_count": 81,
     "metadata": {},
     "output_type": "execute_result"
    }
   ],
   "source": [
    "# find the rows with missing data\n",
    "df[df['Python'].isna()]"
   ]
  },
  {
   "cell_type": "code",
   "execution_count": 82,
   "id": "121d6558-df52-480c-9147-88fae5d3b258",
   "metadata": {},
   "outputs": [],
   "source": [
    "# copy data frame into new 'df_mean' to see the result before real replacement\n",
    "df_mean = df.copy()\n",
    "df_mean['Python'] = df_mean['Python'].fillna(df_mean['Python'].mean())"
   ]
  },
  {
   "cell_type": "code",
   "execution_count": 83,
   "id": "b95b5679-5a77-4217-90bb-84faf8149d51",
   "metadata": {},
   "outputs": [
    {
     "name": "stdout",
     "output_type": "stream",
     "text": [
      "    fNAME       lNAME  Age  gender       country     residence  entryEXAM  \\\n",
      "3   Shoni   Hlongwane   22  Female  South Africa     Sognsvann         40   \n",
      "33  Frank  Abrahamsen   23    Male        Norway  BI Residence         68   \n",
      "\n",
      "   prevEducation  studyHOURS     Python  DB  \n",
      "3    High School         120  75.853333  44  \n",
      "33   High School         152  75.853333  70  \n"
     ]
    }
   ],
   "source": [
    "print(df_mean.loc[[3, 33]])"
   ]
  },
  {
   "cell_type": "code",
   "execution_count": 84,
   "id": "ad4b5d8a-6c98-48cd-8faa-430d26abf010",
   "metadata": {},
   "outputs": [],
   "source": [
    "# copy data frame into new 'df_median' to see the result before real replacement\n",
    "df_median = df.copy()\n",
    "df_median['Python'] = df_median['Python'].fillna(df_median['Python'].median())"
   ]
  },
  {
   "cell_type": "code",
   "execution_count": 85,
   "id": "01c7d4b0-9f03-4432-bd87-22d07497b947",
   "metadata": {},
   "outputs": [
    {
     "name": "stdout",
     "output_type": "stream",
     "text": [
      "    fNAME       lNAME  Age  gender       country     residence  entryEXAM  \\\n",
      "3   Shoni   Hlongwane   22  Female  South Africa     Sognsvann         40   \n",
      "33  Frank  Abrahamsen   23    Male        Norway  BI Residence         68   \n",
      "\n",
      "   prevEducation  studyHOURS  Python  DB  \n",
      "3    High School         120    81.0  44  \n",
      "33   High School         152    81.0  70  \n"
     ]
    }
   ],
   "source": [
    "print(df_median.loc[[3, 33]])"
   ]
  },
  {
   "cell_type": "code",
   "execution_count": 86,
   "id": "c681e48f-da8c-42f5-921e-4d7c20e0509d",
   "metadata": {},
   "outputs": [
    {
     "data": {
      "text/html": [
       "<div>\n",
       "<style scoped>\n",
       "    .dataframe tbody tr th:only-of-type {\n",
       "        vertical-align: middle;\n",
       "    }\n",
       "\n",
       "    .dataframe tbody tr th {\n",
       "        vertical-align: top;\n",
       "    }\n",
       "\n",
       "    .dataframe thead th {\n",
       "        text-align: right;\n",
       "    }\n",
       "</style>\n",
       "<table border=\"1\" class=\"dataframe\">\n",
       "  <thead>\n",
       "    <tr style=\"text-align: right;\">\n",
       "      <th></th>\n",
       "      <th>Age</th>\n",
       "      <th>entryEXAM</th>\n",
       "      <th>studyHOURS</th>\n",
       "      <th>Python</th>\n",
       "      <th>DB</th>\n",
       "    </tr>\n",
       "  </thead>\n",
       "  <tbody>\n",
       "    <tr>\n",
       "      <th>count</th>\n",
       "      <td>77.000000</td>\n",
       "      <td>77.000000</td>\n",
       "      <td>77.000000</td>\n",
       "      <td>75.000000</td>\n",
       "      <td>77.000000</td>\n",
       "    </tr>\n",
       "    <tr>\n",
       "      <th>mean</th>\n",
       "      <td>35.207792</td>\n",
       "      <td>76.753247</td>\n",
       "      <td>149.714286</td>\n",
       "      <td>75.853333</td>\n",
       "      <td>69.467532</td>\n",
       "    </tr>\n",
       "    <tr>\n",
       "      <th>std</th>\n",
       "      <td>10.341966</td>\n",
       "      <td>16.475784</td>\n",
       "      <td>12.743272</td>\n",
       "      <td>15.410328</td>\n",
       "      <td>17.033701</td>\n",
       "    </tr>\n",
       "    <tr>\n",
       "      <th>min</th>\n",
       "      <td>21.000000</td>\n",
       "      <td>28.000000</td>\n",
       "      <td>114.000000</td>\n",
       "      <td>15.000000</td>\n",
       "      <td>30.000000</td>\n",
       "    </tr>\n",
       "    <tr>\n",
       "      <th>25%</th>\n",
       "      <td>27.000000</td>\n",
       "      <td>69.000000</td>\n",
       "      <td>144.000000</td>\n",
       "      <td>71.000000</td>\n",
       "      <td>56.000000</td>\n",
       "    </tr>\n",
       "    <tr>\n",
       "      <th>50%</th>\n",
       "      <td>33.000000</td>\n",
       "      <td>80.000000</td>\n",
       "      <td>156.000000</td>\n",
       "      <td>81.000000</td>\n",
       "      <td>71.000000</td>\n",
       "    </tr>\n",
       "    <tr>\n",
       "      <th>75%</th>\n",
       "      <td>42.000000</td>\n",
       "      <td>90.000000</td>\n",
       "      <td>158.000000</td>\n",
       "      <td>85.000000</td>\n",
       "      <td>83.000000</td>\n",
       "    </tr>\n",
       "    <tr>\n",
       "      <th>max</th>\n",
       "      <td>71.000000</td>\n",
       "      <td>98.000000</td>\n",
       "      <td>160.000000</td>\n",
       "      <td>91.000000</td>\n",
       "      <td>100.000000</td>\n",
       "    </tr>\n",
       "  </tbody>\n",
       "</table>\n",
       "</div>"
      ],
      "text/plain": [
       "             Age  entryEXAM  studyHOURS     Python          DB\n",
       "count  77.000000  77.000000   77.000000  75.000000   77.000000\n",
       "mean   35.207792  76.753247  149.714286  75.853333   69.467532\n",
       "std    10.341966  16.475784   12.743272  15.410328   17.033701\n",
       "min    21.000000  28.000000  114.000000  15.000000   30.000000\n",
       "25%    27.000000  69.000000  144.000000  71.000000   56.000000\n",
       "50%    33.000000  80.000000  156.000000  81.000000   71.000000\n",
       "75%    42.000000  90.000000  158.000000  85.000000   83.000000\n",
       "max    71.000000  98.000000  160.000000  91.000000  100.000000"
      ]
     },
     "execution_count": 86,
     "metadata": {},
     "output_type": "execute_result"
    }
   ],
   "source": [
    "df.describe()"
   ]
  },
  {
   "cell_type": "code",
   "execution_count": 20,
   "id": "b7d49edb-e12f-497f-94a0-de32eb9e265f",
   "metadata": {
    "scrolled": true
   },
   "outputs": [
    {
     "data": {
      "text/plain": [
       "Python\n",
       "87.0    10\n",
       "80.0     9\n",
       "84.0     8\n",
       "85.0     7\n",
       "81.0     5\n",
       "90.0     3\n",
       "69.0     3\n",
       "70.0     2\n",
       "75.0     2\n",
       "88.0     2\n",
       "78.0     2\n",
       "57.0     2\n",
       "60.0     2\n",
       "59.0     1\n",
       "91.0     1\n",
       "33.0     1\n",
       "76.0     1\n",
       "79.0     1\n",
       "83.0     1\n",
       "74.0     1\n",
       "82.0     1\n",
       "66.0     1\n",
       "30.0     1\n",
       "31.0     1\n",
       "61.0     1\n",
       "86.0     1\n",
       "48.0     1\n",
       "45.0     1\n",
       "15.0     1\n",
       "63.0     1\n",
       "72.0     1\n",
       "Name: count, dtype: int64"
      ]
     },
     "execution_count": 20,
     "metadata": {},
     "output_type": "execute_result"
    }
   ],
   "source": [
    "df['Python'].value_counts()"
   ]
  },
  {
   "cell_type": "markdown",
   "id": "bb1a4ba3-84c3-46c0-ac5c-fb9f73f94a2a",
   "metadata": {},
   "source": [
    "##### Based on the previous data, I think that Median will be more accurate to be in the NaN values\n",
    "###### 1. the scores between 25% and 75% are 71 and 85\n",
    "###### 2. the outilers affected the mean values (15, 30, 31, 33 ..) which are repeated only once "
   ]
  },
  {
   "cell_type": "code",
   "execution_count": 87,
   "id": "6a3ec6ee-6f3b-4793-97d9-eef19e06457e",
   "metadata": {},
   "outputs": [
    {
     "name": "stdout",
     "output_type": "stream",
     "text": [
      "<class 'pandas.core.frame.DataFrame'>\n",
      "RangeIndex: 77 entries, 0 to 76\n",
      "Data columns (total 11 columns):\n",
      " #   Column         Non-Null Count  Dtype  \n",
      "---  ------         --------------  -----  \n",
      " 0   fNAME          77 non-null     object \n",
      " 1   lNAME          77 non-null     object \n",
      " 2   Age            77 non-null     int64  \n",
      " 3   gender         77 non-null     object \n",
      " 4   country        77 non-null     object \n",
      " 5   residence      77 non-null     object \n",
      " 6   entryEXAM      77 non-null     int64  \n",
      " 7   prevEducation  77 non-null     object \n",
      " 8   studyHOURS     77 non-null     int64  \n",
      " 9   Python         77 non-null     float64\n",
      " 10  DB             77 non-null     int64  \n",
      "dtypes: float64(1), int64(4), object(6)\n",
      "memory usage: 6.7+ KB\n"
     ]
    }
   ],
   "source": [
    "df['Python'] = df['Python'].fillna(df['Python'].median())\n",
    "df.info()"
   ]
  },
  {
   "cell_type": "markdown",
   "id": "a0136aaa-b4ca-434c-bde3-e839e75cd686",
   "metadata": {},
   "source": [
    "#### Option 2 (Categorical): Fill missing categories in country or gender with mode."
   ]
  },
  {
   "cell_type": "markdown",
   "id": "4bb603fe-00f2-4912-afc7-58966471d81a",
   "metadata": {},
   "source": [
    "###### there is no other missing values found"
   ]
  },
  {
   "cell_type": "markdown",
   "id": "6f656a63-c38b-4c00-af41-10ff1351d8d9",
   "metadata": {},
   "source": [
    "## Part 3 – Outliers"
   ]
  },
  {
   "cell_type": "markdown",
   "id": "43687816-75a7-4320-b822-55c9c6f3872a",
   "metadata": {},
   "source": [
    "### 1. Detect outliers"
   ]
  },
  {
   "cell_type": "markdown",
   "id": "1b14dae6-c9fc-44f0-9975-f3fa73f37a97",
   "metadata": {},
   "source": [
    "#### Use boxplots (sns.boxplot) or summary statistics (df['Python'].describe())."
   ]
  },
  {
   "cell_type": "code",
   "execution_count": 22,
   "id": "b41b7f4a-e2cd-4854-ba2a-d22cff7f1f72",
   "metadata": {},
   "outputs": [
    {
     "data": {
      "text/plain": [
       "count     77.000000\n",
       "mean     149.714286\n",
       "std       12.743272\n",
       "min      114.000000\n",
       "25%      144.000000\n",
       "50%      156.000000\n",
       "75%      158.000000\n",
       "max      160.000000\n",
       "Name: studyHOURS, dtype: float64"
      ]
     },
     "execution_count": 22,
     "metadata": {},
     "output_type": "execute_result"
    }
   ],
   "source": [
    "df['studyHOURS'].describe()"
   ]
  },
  {
   "cell_type": "code",
   "execution_count": 23,
   "id": "322a01b6-4850-4280-8b8e-b8a806041cdd",
   "metadata": {},
   "outputs": [
    {
     "data": {
      "text/plain": [
       "count    77.000000\n",
       "mean     75.987013\n",
       "std      15.228517\n",
       "min      15.000000\n",
       "25%      72.000000\n",
       "50%      81.000000\n",
       "75%      85.000000\n",
       "max      91.000000\n",
       "Name: Python, dtype: float64"
      ]
     },
     "execution_count": 23,
     "metadata": {},
     "output_type": "execute_result"
    }
   ],
   "source": [
    "df['Python'].describe()"
   ]
  },
  {
   "cell_type": "code",
   "execution_count": 24,
   "id": "1d471104-9851-4ca7-8189-1f4c7ef6f375",
   "metadata": {},
   "outputs": [
    {
     "data": {
      "text/plain": [
       "count     77.000000\n",
       "mean      69.467532\n",
       "std       17.033701\n",
       "min       30.000000\n",
       "25%       56.000000\n",
       "50%       71.000000\n",
       "75%       83.000000\n",
       "max      100.000000\n",
       "Name: DB, dtype: float64"
      ]
     },
     "execution_count": 24,
     "metadata": {},
     "output_type": "execute_result"
    }
   ],
   "source": [
    "df['DB'].describe() "
   ]
  },
  {
   "cell_type": "code",
   "execution_count": 25,
   "id": "c8f3d86f-ba0d-4104-bc5e-3f4636ce34f3",
   "metadata": {
    "scrolled": true
   },
   "outputs": [
    {
     "data": {
      "text/plain": [
       "DB\n",
       "90     6\n",
       "50     5\n",
       "74     4\n",
       "55     4\n",
       "82     3\n",
       "83     3\n",
       "60     3\n",
       "59     2\n",
       "61     2\n",
       "67     2\n",
       "46     2\n",
       "91     2\n",
       "99     2\n",
       "77     2\n",
       "78     2\n",
       "58     2\n",
       "88     2\n",
       "73     2\n",
       "45     2\n",
       "86     2\n",
       "62     2\n",
       "70     2\n",
       "89     2\n",
       "75     1\n",
       "80     1\n",
       "44     1\n",
       "79     1\n",
       "69     1\n",
       "30     1\n",
       "76     1\n",
       "56     1\n",
       "65     1\n",
       "33     1\n",
       "92     1\n",
       "42     1\n",
       "47     1\n",
       "100    1\n",
       "68     1\n",
       "71     1\n",
       "43     1\n",
       "Name: count, dtype: int64"
      ]
     },
     "execution_count": 25,
     "metadata": {},
     "output_type": "execute_result"
    }
   ],
   "source": [
    "df['DB'].value_counts() "
   ]
  },
  {
   "cell_type": "code",
   "execution_count": 26,
   "id": "e075194b-e3da-4634-a833-fca6da7ba470",
   "metadata": {},
   "outputs": [
    {
     "data": {
      "image/png": "[encoded data removed]",
      "text/plain": [
       "<Figure size 1200x400 with 3 Axes>"
      ]
     },
     "metadata": {},
     "output_type": "display_data"
    }
   ],
   "source": [
    "import matplotlib.pyplot as plt\n",
    "import seaborn as sns\n",
    "\n",
    "plt.figure(figsize=(12,4))\n",
    "\n",
    "plt.subplot(1,3,1)\n",
    "sns.boxplot(y=df['studyHOURS'])\n",
    "plt.title(\"Study Hours\")\n",
    "\n",
    "plt.subplot(1,3,2)\n",
    "sns.boxplot(y=df['Python'])\n",
    "plt.title(\"Python Score\")\n",
    "\n",
    "plt.subplot(1,3,3)\n",
    "sns.boxplot(y=df['DB'])\n",
    "plt.title(\"DB Score\")\n",
    "\n",
    "plt.show()\n"
   ]
  },
  {
   "cell_type": "markdown",
   "id": "a277d078-5d1a-42fb-8e44-924d5410add9",
   "metadata": {},
   "source": [
    "#### 1. 'studyHOURS' minimum = 114.000000, maximum = 160.000000 which is making sense\n",
    "##### - 160 hours/month, means almot 5 hours/day \n",
    "##### - My decision is to keep that coulmn as it is."
   ]
  },
  {
   "cell_type": "markdown",
   "id": "8bec99ca-51ac-4140-821f-92c7ba783495",
   "metadata": {},
   "source": [
    "#### 2. 'Python' and 'DB' column is a student score from 0 to 100\n",
    "##### - 'Python' has minimum score 15 repeated only once; I will drop that row as it is a very small value and there no values more than 100\n",
    "##### - 'DB' has minmum score 30 repeated only once; low value but still realistic and there no values more than 100"
   ]
  },
  {
   "cell_type": "code",
   "execution_count": 88,
   "id": "66f78167-a4dc-4800-b633-2f408dc7c314",
   "metadata": {},
   "outputs": [
    {
     "data": {
      "text/plain": [
       "array([59., 60., 74., 81., 91., 88., 80., 85., 83., 79., 70., 75., 87.,\n",
       "       76., 84., 33., 30., 61., 82., 66., 31., 90., 69., 57., 86., 78.,\n",
       "       48., 45., 63., 72.])"
      ]
     },
     "execution_count": 88,
     "metadata": {},
     "output_type": "execute_result"
    }
   ],
   "source": [
    "df.drop(df[df['Python'] == 15].index, inplace=True)\n",
    "df['Python'].unique()"
   ]
  },
  {
   "cell_type": "code",
   "execution_count": 89,
   "id": "7d2cd929-4f30-4928-8531-e7e2d20ce7d9",
   "metadata": {},
   "outputs": [
    {
     "data": {
      "text/html": [
       "<div>\n",
       "<style scoped>\n",
       "    .dataframe tbody tr th:only-of-type {\n",
       "        vertical-align: middle;\n",
       "    }\n",
       "\n",
       "    .dataframe tbody tr th {\n",
       "        vertical-align: top;\n",
       "    }\n",
       "\n",
       "    .dataframe thead th {\n",
       "        text-align: right;\n",
       "    }\n",
       "</style>\n",
       "<table border=\"1\" class=\"dataframe\">\n",
       "  <thead>\n",
       "    <tr style=\"text-align: right;\">\n",
       "      <th></th>\n",
       "      <th>Age</th>\n",
       "      <th>entryEXAM</th>\n",
       "      <th>studyHOURS</th>\n",
       "      <th>Python</th>\n",
       "      <th>DB</th>\n",
       "    </tr>\n",
       "  </thead>\n",
       "  <tbody>\n",
       "    <tr>\n",
       "      <th>count</th>\n",
       "      <td>76.000000</td>\n",
       "      <td>76.000000</td>\n",
       "      <td>76.000000</td>\n",
       "      <td>76.000000</td>\n",
       "      <td>76.000000</td>\n",
       "    </tr>\n",
       "    <tr>\n",
       "      <th>mean</th>\n",
       "      <td>35.197368</td>\n",
       "      <td>77.394737</td>\n",
       "      <td>150.105263</td>\n",
       "      <td>76.789474</td>\n",
       "      <td>69.500000</td>\n",
       "    </tr>\n",
       "    <tr>\n",
       "      <th>std</th>\n",
       "      <td>10.410277</td>\n",
       "      <td>15.587242</td>\n",
       "      <td>12.354302</td>\n",
       "      <td>13.592464</td>\n",
       "      <td>17.144484</td>\n",
       "    </tr>\n",
       "    <tr>\n",
       "      <th>min</th>\n",
       "      <td>21.000000</td>\n",
       "      <td>30.000000</td>\n",
       "      <td>114.000000</td>\n",
       "      <td>30.000000</td>\n",
       "      <td>30.000000</td>\n",
       "    </tr>\n",
       "    <tr>\n",
       "      <th>25%</th>\n",
       "      <td>27.000000</td>\n",
       "      <td>69.750000</td>\n",
       "      <td>144.000000</td>\n",
       "      <td>73.500000</td>\n",
       "      <td>55.750000</td>\n",
       "    </tr>\n",
       "    <tr>\n",
       "      <th>50%</th>\n",
       "      <td>33.000000</td>\n",
       "      <td>80.500000</td>\n",
       "      <td>156.000000</td>\n",
       "      <td>81.000000</td>\n",
       "      <td>72.000000</td>\n",
       "    </tr>\n",
       "    <tr>\n",
       "      <th>75%</th>\n",
       "      <td>42.000000</td>\n",
       "      <td>90.000000</td>\n",
       "      <td>158.000000</td>\n",
       "      <td>85.000000</td>\n",
       "      <td>83.000000</td>\n",
       "    </tr>\n",
       "    <tr>\n",
       "      <th>max</th>\n",
       "      <td>71.000000</td>\n",
       "      <td>98.000000</td>\n",
       "      <td>160.000000</td>\n",
       "      <td>91.000000</td>\n",
       "      <td>100.000000</td>\n",
       "    </tr>\n",
       "  </tbody>\n",
       "</table>\n",
       "</div>"
      ],
      "text/plain": [
       "             Age  entryEXAM  studyHOURS     Python          DB\n",
       "count  76.000000  76.000000   76.000000  76.000000   76.000000\n",
       "mean   35.197368  77.394737  150.105263  76.789474   69.500000\n",
       "std    10.410277  15.587242   12.354302  13.592464   17.144484\n",
       "min    21.000000  30.000000  114.000000  30.000000   30.000000\n",
       "25%    27.000000  69.750000  144.000000  73.500000   55.750000\n",
       "50%    33.000000  80.500000  156.000000  81.000000   72.000000\n",
       "75%    42.000000  90.000000  158.000000  85.000000   83.000000\n",
       "max    71.000000  98.000000  160.000000  91.000000  100.000000"
      ]
     },
     "execution_count": 89,
     "metadata": {},
     "output_type": "execute_result"
    }
   ],
   "source": [
    "# check the final statistics\n",
    "df.describe()"
   ]
  },
  {
   "cell_type": "code",
   "execution_count": 29,
   "id": "7b5e78f5-e19b-408d-bcb4-a408ef13d929",
   "metadata": {},
   "outputs": [
    {
     "name": "stdout",
     "output_type": "stream",
     "text": [
      "<class 'pandas.core.frame.DataFrame'>\n",
      "Index: 76 entries, 0 to 76\n",
      "Data columns (total 11 columns):\n",
      " #   Column         Non-Null Count  Dtype  \n",
      "---  ------         --------------  -----  \n",
      " 0   fNAME          76 non-null     object \n",
      " 1   lNAME          76 non-null     object \n",
      " 2   Age            76 non-null     int64  \n",
      " 3   gender         76 non-null     object \n",
      " 4   country        76 non-null     object \n",
      " 5   residence      76 non-null     object \n",
      " 6   entryEXAM      76 non-null     int64  \n",
      " 7   prevEducation  76 non-null     object \n",
      " 8   studyHOURS     76 non-null     int64  \n",
      " 9   Python         76 non-null     float64\n",
      " 10  DB             76 non-null     int64  \n",
      "dtypes: float64(1), int64(4), object(6)\n",
      "memory usage: 7.1+ KB\n"
     ]
    }
   ],
   "source": [
    "df.info()"
   ]
  },
  {
   "cell_type": "code",
   "execution_count": null,
   "id": "6aed63ac-e737-4b49-a3c0-bc8ce8e10fbc",
   "metadata": {},
   "outputs": [],
   "source": []
  },
  {
   "cell_type": "code",
   "execution_count": 90,
   "id": "e369c02f-4392-4497-a9ae-71926a0e57aa",
   "metadata": {},
   "outputs": [],
   "source": [
    "# save the df into cleaned_students.csv file\n",
    "df.to_csv(\"cleaned_students.csv\", index=False)"
   ]
  },
  {
   "cell_type": "markdown",
   "id": "8c57e6c4-37cd-4a42-9136-e5ebf6dafabe",
   "metadata": {},
   "source": [
    "# Student dataset - Level 2"
   ]
  },
  {
   "cell_type": "markdown",
   "id": "cedd1a4c-2776-4657-8096-6864d8c2902d",
   "metadata": {},
   "source": [
    "## Part 4 – Feature Engineering"
   ]
  },
  {
   "cell_type": "markdown",
   "id": "63457621-d516-402c-a9f7-2e3a371e1932",
   "metadata": {},
   "source": [
    "### Create a new feature"
   ]
  },
  {
   "cell_type": "markdown",
   "id": "072a7aa1-d891-4445-a0ef-e014e8d653be",
   "metadata": {},
   "source": [
    "#### Programming Average = (Python + DB)/2."
   ]
  },
  {
   "cell_type": "code",
   "execution_count": 91,
   "id": "536c4a89-7864-4e55-be03-e57690a23f95",
   "metadata": {},
   "outputs": [
    {
     "name": "stdout",
     "output_type": "stream",
     "text": [
      "<class 'pandas.core.frame.DataFrame'>\n",
      "Index: 76 entries, 0 to 76\n",
      "Data columns (total 12 columns):\n",
      " #   Column           Non-Null Count  Dtype  \n",
      "---  ------           --------------  -----  \n",
      " 0   fNAME            76 non-null     object \n",
      " 1   lNAME            76 non-null     object \n",
      " 2   Age              76 non-null     int64  \n",
      " 3   gender           76 non-null     object \n",
      " 4   country          76 non-null     object \n",
      " 5   residence        76 non-null     object \n",
      " 6   entryEXAM        76 non-null     int64  \n",
      " 7   prevEducation    76 non-null     object \n",
      " 8   studyHOURS       76 non-null     int64  \n",
      " 9   Python           76 non-null     float64\n",
      " 10  DB               76 non-null     int64  \n",
      " 11  Programming_Avg  76 non-null     float64\n",
      "dtypes: float64(2), int64(4), object(6)\n",
      "memory usage: 7.7+ KB\n"
     ]
    }
   ],
   "source": [
    "df['Programming_Avg'] = (df['Python'] + df['DB']) / 2\n",
    "df.info()"
   ]
  },
  {
   "cell_type": "markdown",
   "id": "ac4a839b-c2b3-4c99-8535-646d32ab327b",
   "metadata": {},
   "source": [
    "#### binary feature: isAdult = 1 if Age >= 25, else 0."
   ]
  },
  {
   "cell_type": "code",
   "execution_count": 92,
   "id": "4e63ff5f-57fc-410e-b706-006bc920ca15",
   "metadata": {},
   "outputs": [
    {
     "name": "stdout",
     "output_type": "stream",
     "text": [
      "<class 'pandas.core.frame.DataFrame'>\n",
      "Index: 76 entries, 0 to 76\n",
      "Data columns (total 13 columns):\n",
      " #   Column           Non-Null Count  Dtype  \n",
      "---  ------           --------------  -----  \n",
      " 0   fNAME            76 non-null     object \n",
      " 1   lNAME            76 non-null     object \n",
      " 2   Age              76 non-null     int64  \n",
      " 3   gender           76 non-null     object \n",
      " 4   country          76 non-null     object \n",
      " 5   residence        76 non-null     object \n",
      " 6   entryEXAM        76 non-null     int64  \n",
      " 7   prevEducation    76 non-null     object \n",
      " 8   studyHOURS       76 non-null     int64  \n",
      " 9   Python           76 non-null     float64\n",
      " 10  DB               76 non-null     int64  \n",
      " 11  Programming_Avg  76 non-null     float64\n",
      " 12  isAdult          76 non-null     int64  \n",
      "dtypes: float64(2), int64(5), object(6)\n",
      "memory usage: 8.3+ KB\n"
     ]
    }
   ],
   "source": [
    "isAdult_list = []\n",
    "for age in df['Age']:\n",
    "    if age >= 25:\n",
    "        isAdult_list.append(1)\n",
    "    else:\n",
    "        isAdult_list.append(0)\n",
    "\n",
    "df['isAdult'] = isAdult_list\n",
    "df.info()"
   ]
  },
  {
   "cell_type": "markdown",
   "id": "101f2b26-e07f-4cf4-851b-fd73aa5e2c4a",
   "metadata": {},
   "source": [
    "### Transform studyHOURS into categories (Low / Medium / High)."
   ]
  },
  {
   "cell_type": "code",
   "execution_count": 93,
   "id": "323f748e-218d-46d7-80ea-1a9e5a4a5dda",
   "metadata": {},
   "outputs": [
    {
     "name": "stdout",
     "output_type": "stream",
     "text": [
      "<class 'pandas.core.frame.DataFrame'>\n",
      "Index: 76 entries, 0 to 76\n",
      "Data columns (total 14 columns):\n",
      " #   Column           Non-Null Count  Dtype  \n",
      "---  ------           --------------  -----  \n",
      " 0   fNAME            76 non-null     object \n",
      " 1   lNAME            76 non-null     object \n",
      " 2   Age              76 non-null     int64  \n",
      " 3   gender           76 non-null     object \n",
      " 4   country          76 non-null     object \n",
      " 5   residence        76 non-null     object \n",
      " 6   entryEXAM        76 non-null     int64  \n",
      " 7   prevEducation    76 non-null     object \n",
      " 8   studyHOURS       76 non-null     int64  \n",
      " 9   Python           76 non-null     float64\n",
      " 10  DB               76 non-null     int64  \n",
      " 11  Programming_Avg  76 non-null     float64\n",
      " 12  isAdult          76 non-null     int64  \n",
      " 13  studyHOURS_cat   76 non-null     object \n",
      "dtypes: float64(2), int64(5), object(7)\n",
      "memory usage: 8.9+ KB\n"
     ]
    }
   ],
   "source": [
    "studyHOURS_cat = []\n",
    "for sh in df['studyHOURS']:\n",
    "    if sh < 120:\n",
    "        studyHOURS_cat.append('Low')\n",
    "    elif 120 <= sh < 150:\n",
    "        studyHOURS_cat.append('Medium')\n",
    "    else:\n",
    "        studyHOURS_cat.append('High')\n",
    "\n",
    "df['studyHOURS_cat'] = studyHOURS_cat\n",
    "df.info()"
   ]
  },
  {
   "cell_type": "code",
   "execution_count": 94,
   "id": "92f863cf-a331-45c3-9761-9361b9618fc4",
   "metadata": {},
   "outputs": [
    {
     "data": {
      "text/plain": [
       "0       High\n",
       "1       High\n",
       "2     Medium\n",
       "3     Medium\n",
       "4     Medium\n",
       "       ...  \n",
       "72      High\n",
       "73      High\n",
       "74      High\n",
       "75      High\n",
       "76    Medium\n",
       "Name: studyHOURS_cat, Length: 76, dtype: object"
      ]
     },
     "execution_count": 94,
     "metadata": {},
     "output_type": "execute_result"
    }
   ],
   "source": [
    "df['studyHOURS_cat']"
   ]
  },
  {
   "cell_type": "code",
   "execution_count": 95,
   "id": "19e0fde2-b9a2-46b6-972c-a32bf0e00cba",
   "metadata": {},
   "outputs": [
    {
     "data": {
      "text/plain": [
       "np.float64(0.6989272561554796)"
      ]
     },
     "execution_count": 95,
     "metadata": {},
     "output_type": "execute_result"
    }
   ],
   "source": [
    "df['Programming_Avg'].corr(df['studyHOURS'])"
   ]
  },
  {
   "cell_type": "markdown",
   "id": "cd4b1815-d038-4922-a325-9ccbe0cec5db",
   "metadata": {},
   "source": [
    "### Study Efficiency"
   ]
  },
  {
   "cell_type": "code",
   "execution_count": 96,
   "id": "87a70f1c-f132-4aa1-a777-dbad4065904c",
   "metadata": {},
   "outputs": [
    {
     "name": "stdout",
     "output_type": "stream",
     "text": [
      "<class 'pandas.core.frame.DataFrame'>\n",
      "Index: 76 entries, 0 to 76\n",
      "Data columns (total 15 columns):\n",
      " #   Column           Non-Null Count  Dtype  \n",
      "---  ------           --------------  -----  \n",
      " 0   fNAME            76 non-null     object \n",
      " 1   lNAME            76 non-null     object \n",
      " 2   Age              76 non-null     int64  \n",
      " 3   gender           76 non-null     object \n",
      " 4   country          76 non-null     object \n",
      " 5   residence        76 non-null     object \n",
      " 6   entryEXAM        76 non-null     int64  \n",
      " 7   prevEducation    76 non-null     object \n",
      " 8   studyHOURS       76 non-null     int64  \n",
      " 9   Python           76 non-null     float64\n",
      " 10  DB               76 non-null     int64  \n",
      " 11  Programming_Avg  76 non-null     float64\n",
      " 12  isAdult          76 non-null     int64  \n",
      " 13  studyHOURS_cat   76 non-null     object \n",
      " 14  Efficiency       76 non-null     float64\n",
      "dtypes: float64(3), int64(5), object(7)\n",
      "memory usage: 9.5+ KB\n"
     ]
    }
   ],
   "source": [
    "df['Efficiency'] = df['Programming_Avg'] / df['studyHOURS']\n",
    "df.info()"
   ]
  },
  {
   "cell_type": "markdown",
   "id": "e40d2109-d154-4586-af19-a6e79a374cfb",
   "metadata": {},
   "source": [
    "### Track Performance"
   ]
  },
  {
   "cell_type": "code",
   "execution_count": 97,
   "id": "783fd474-4285-451f-a425-77c2b78de03d",
   "metadata": {},
   "outputs": [
    {
     "name": "stdout",
     "output_type": "stream",
     "text": [
      "<class 'pandas.core.frame.DataFrame'>\n",
      "Index: 76 entries, 0 to 76\n",
      "Data columns (total 16 columns):\n",
      " #   Column             Non-Null Count  Dtype  \n",
      "---  ------             --------------  -----  \n",
      " 0   fNAME              76 non-null     object \n",
      " 1   lNAME              76 non-null     object \n",
      " 2   Age                76 non-null     int64  \n",
      " 3   gender             76 non-null     object \n",
      " 4   country            76 non-null     object \n",
      " 5   residence          76 non-null     object \n",
      " 6   entryEXAM          76 non-null     int64  \n",
      " 7   prevEducation      76 non-null     object \n",
      " 8   studyHOURS         76 non-null     int64  \n",
      " 9   Python             76 non-null     float64\n",
      " 10  DB                 76 non-null     int64  \n",
      " 11  Programming_Avg    76 non-null     float64\n",
      " 12  isAdult            76 non-null     int64  \n",
      " 13  studyHOURS_cat     76 non-null     object \n",
      " 14  Efficiency         76 non-null     float64\n",
      " 15  Track_Performance  76 non-null     float64\n",
      "dtypes: float64(4), int64(5), object(7)\n",
      "memory usage: 10.1+ KB\n"
     ]
    }
   ],
   "source": [
    "df['Track_Performance'] = df['Programming_Avg'] - df['entryEXAM']\n",
    "df.info()"
   ]
  },
  {
   "cell_type": "markdown",
   "id": "5caf254f-a952-4c7c-aa11-35c3fe3419d9",
   "metadata": {},
   "source": [
    "### Question: Which engineered feature do you think would add the most predictive power to the model?"
   ]
  },
  {
   "cell_type": "markdown",
   "id": "3ee3a6c9-b47d-4c7b-806c-a808adbc69b9",
   "metadata": {},
   "source": [
    "#### Programming_Avg: represented the whole goal of the data (pass/fail) \n",
    "#### Efficiency: scores vs study hours (how much the student get out from his/her effort)\n",
    "#### Track Performance: Entry Exam vs scores after studing (improvement over time)"
   ]
  },
  {
   "cell_type": "markdown",
   "id": "d44b6865-f7b7-433e-aebe-3baee2e5ea3a",
   "metadata": {},
   "source": [
    "## Part 5 – Feature Scaling"
   ]
  },
  {
   "cell_type": "markdown",
   "id": "e9057a21-90ae-4790-b3f0-05a33c524f83",
   "metadata": {},
   "source": [
    "### Detect Numeric Columns"
   ]
  },
  {
   "cell_type": "code",
   "execution_count": 98,
   "id": "373adba3-f37d-4807-9c7a-d35b0da3983b",
   "metadata": {},
   "outputs": [
    {
     "name": "stdout",
     "output_type": "stream",
     "text": [
      "<class 'pandas.core.frame.DataFrame'>\n",
      "Index: 76 entries, 0 to 76\n",
      "Data columns (total 16 columns):\n",
      " #   Column             Non-Null Count  Dtype  \n",
      "---  ------             --------------  -----  \n",
      " 0   fNAME              76 non-null     object \n",
      " 1   lNAME              76 non-null     object \n",
      " 2   Age                76 non-null     int64  \n",
      " 3   gender             76 non-null     object \n",
      " 4   country            76 non-null     object \n",
      " 5   residence          76 non-null     object \n",
      " 6   entryEXAM          76 non-null     int64  \n",
      " 7   prevEducation      76 non-null     object \n",
      " 8   studyHOURS         76 non-null     int64  \n",
      " 9   Python             76 non-null     float64\n",
      " 10  DB                 76 non-null     int64  \n",
      " 11  Programming_Avg    76 non-null     float64\n",
      " 12  isAdult            76 non-null     int64  \n",
      " 13  studyHOURS_cat     76 non-null     object \n",
      " 14  Efficiency         76 non-null     float64\n",
      " 15  Track_Performance  76 non-null     float64\n",
      "dtypes: float64(4), int64(5), object(7)\n",
      "memory usage: 10.1+ KB\n"
     ]
    }
   ],
   "source": [
    "df.info()"
   ]
  },
  {
   "cell_type": "code",
   "execution_count": 60,
   "id": "d160f263-0477-4e37-9a83-761c186f3f3f",
   "metadata": {},
   "outputs": [],
   "source": [
    "numeric = ['Age', 'entryEXAM', 'studyHOURS', 'Python', 'DB', 'Programming_Avg', 'Efficiency', 'Track_Performance']"
   ]
  },
  {
   "cell_type": "markdown",
   "id": "f720b7aa-d55c-470e-b310-f53c17add08f",
   "metadata": {},
   "source": [
    "### Apply Scaling"
   ]
  },
  {
   "cell_type": "markdown",
   "id": "c85aacc4-ef81-4811-9777-639e40c017e2",
   "metadata": {},
   "source": [
    "#### Option 1: StandardScaler (mean=0, std=1) → good for SVM, Logistic Regression."
   ]
  },
  {
   "cell_type": "code",
   "execution_count": 99,
   "id": "9648d126-7b98-40f1-8bd3-80eaa86d15a9",
   "metadata": {},
   "outputs": [
    {
     "data": {
      "text/html": [
       "<div>\n",
       "<style scoped>\n",
       "    .dataframe tbody tr th:only-of-type {\n",
       "        vertical-align: middle;\n",
       "    }\n",
       "\n",
       "    .dataframe tbody tr th {\n",
       "        vertical-align: top;\n",
       "    }\n",
       "\n",
       "    .dataframe thead th {\n",
       "        text-align: right;\n",
       "    }\n",
       "</style>\n",
       "<table border=\"1\" class=\"dataframe\">\n",
       "  <thead>\n",
       "    <tr style=\"text-align: right;\">\n",
       "      <th></th>\n",
       "      <th>Age</th>\n",
       "      <th>entryEXAM</th>\n",
       "      <th>studyHOURS</th>\n",
       "      <th>Python</th>\n",
       "      <th>DB</th>\n",
       "      <th>Programming_Avg</th>\n",
       "      <th>Efficiency</th>\n",
       "      <th>Track_Performance</th>\n",
       "    </tr>\n",
       "  </thead>\n",
       "  <tbody>\n",
       "    <tr>\n",
       "      <th>count</th>\n",
       "      <td>7.600000e+01</td>\n",
       "      <td>7.600000e+01</td>\n",
       "      <td>7.600000e+01</td>\n",
       "      <td>7.600000e+01</td>\n",
       "      <td>7.600000e+01</td>\n",
       "      <td>7.600000e+01</td>\n",
       "      <td>7.600000e+01</td>\n",
       "      <td>7.600000e+01</td>\n",
       "    </tr>\n",
       "    <tr>\n",
       "      <th>mean</th>\n",
       "      <td>1.431603e-16</td>\n",
       "      <td>1.869849e-16</td>\n",
       "      <td>-2.410353e-16</td>\n",
       "      <td>4.258290e-16</td>\n",
       "      <td>-8.764919e-18</td>\n",
       "      <td>2.351920e-16</td>\n",
       "      <td>1.013809e-15</td>\n",
       "      <td>-2.337312e-17</td>\n",
       "    </tr>\n",
       "    <tr>\n",
       "      <th>std</th>\n",
       "      <td>1.006645e+00</td>\n",
       "      <td>1.006645e+00</td>\n",
       "      <td>1.006645e+00</td>\n",
       "      <td>1.006645e+00</td>\n",
       "      <td>1.006645e+00</td>\n",
       "      <td>1.006645e+00</td>\n",
       "      <td>1.006645e+00</td>\n",
       "      <td>1.006645e+00</td>\n",
       "    </tr>\n",
       "    <tr>\n",
       "      <th>min</th>\n",
       "      <td>-1.372846e+00</td>\n",
       "      <td>-3.060814e+00</td>\n",
       "      <td>-2.941904e+00</td>\n",
       "      <td>-3.465183e+00</td>\n",
       "      <td>-2.319257e+00</td>\n",
       "      <td>-3.160917e+00</td>\n",
       "      <td>-3.008911e+00</td>\n",
       "      <td>-1.703509e+00</td>\n",
       "    </tr>\n",
       "    <tr>\n",
       "      <th>25%</th>\n",
       "      <td>-7.926626e-01</td>\n",
       "      <td>-4.937072e-01</td>\n",
       "      <td>-4.974648e-01</td>\n",
       "      <td>-2.436152e-01</td>\n",
       "      <td>-8.073362e-01</td>\n",
       "      <td>-5.897383e-01</td>\n",
       "      <td>-6.590175e-01</td>\n",
       "      <td>-6.356377e-01</td>\n",
       "    </tr>\n",
       "    <tr>\n",
       "      <th>50%</th>\n",
       "      <td>-2.124794e-01</td>\n",
       "      <td>2.005420e-01</td>\n",
       "      <td>4.803108e-01</td>\n",
       "      <td>3.118275e-01</td>\n",
       "      <td>1.467884e-01</td>\n",
       "      <td>1.218426e-01</td>\n",
       "      <td>1.844209e-01</td>\n",
       "      <td>-2.288296e-01</td>\n",
       "    </tr>\n",
       "    <tr>\n",
       "      <th>75%</th>\n",
       "      <td>6.577954e-01</td>\n",
       "      <td>8.140645e-01</td>\n",
       "      <td>6.432734e-01</td>\n",
       "      <td>6.080635e-01</td>\n",
       "      <td>7.926574e-01</td>\n",
       "      <td>8.334235e-01</td>\n",
       "      <td>7.825289e-01</td>\n",
       "      <td>4.957974e-01</td>\n",
       "    </tr>\n",
       "    <tr>\n",
       "      <th>max</th>\n",
       "      <td>3.462014e+00</td>\n",
       "      <td>1.330715e+00</td>\n",
       "      <td>8.062360e-01</td>\n",
       "      <td>1.052418e+00</td>\n",
       "      <td>1.790819e+00</td>\n",
       "      <td>1.507053e+00</td>\n",
       "      <td>3.033941e+00</td>\n",
       "      <td>5.110527e+00</td>\n",
       "    </tr>\n",
       "  </tbody>\n",
       "</table>\n",
       "</div>"
      ],
      "text/plain": [
       "                Age     entryEXAM    studyHOURS        Python            DB  \\\n",
       "count  7.600000e+01  7.600000e+01  7.600000e+01  7.600000e+01  7.600000e+01   \n",
       "mean   1.431603e-16  1.869849e-16 -2.410353e-16  4.258290e-16 -8.764919e-18   \n",
       "std    1.006645e+00  1.006645e+00  1.006645e+00  1.006645e+00  1.006645e+00   \n",
       "min   -1.372846e+00 -3.060814e+00 -2.941904e+00 -3.465183e+00 -2.319257e+00   \n",
       "25%   -7.926626e-01 -4.937072e-01 -4.974648e-01 -2.436152e-01 -8.073362e-01   \n",
       "50%   -2.124794e-01  2.005420e-01  4.803108e-01  3.118275e-01  1.467884e-01   \n",
       "75%    6.577954e-01  8.140645e-01  6.432734e-01  6.080635e-01  7.926574e-01   \n",
       "max    3.462014e+00  1.330715e+00  8.062360e-01  1.052418e+00  1.790819e+00   \n",
       "\n",
       "       Programming_Avg    Efficiency  Track_Performance  \n",
       "count     7.600000e+01  7.600000e+01       7.600000e+01  \n",
       "mean      2.351920e-16  1.013809e-15      -2.337312e-17  \n",
       "std       1.006645e+00  1.006645e+00       1.006645e+00  \n",
       "min      -3.160917e+00 -3.008911e+00      -1.703509e+00  \n",
       "25%      -5.897383e-01 -6.590175e-01      -6.356377e-01  \n",
       "50%       1.218426e-01  1.844209e-01      -2.288296e-01  \n",
       "75%       8.334235e-01  7.825289e-01       4.957974e-01  \n",
       "max       1.507053e+00  3.033941e+00       5.110527e+00  "
      ]
     },
     "execution_count": 99,
     "metadata": {},
     "output_type": "execute_result"
    }
   ],
   "source": [
    "from sklearn.preprocessing import StandardScaler\n",
    "\n",
    "scaler = StandardScaler()\n",
    "df_standard = df.copy()\n",
    "scaler.fit(df[numeric])\n",
    "df_standard[numeric] = scaler.transform(df[numeric])\n",
    "df_standard[numeric].describe()"
   ]
  },
  {
   "cell_type": "markdown",
   "id": "ab3cc20e-d500-4a8c-be8b-14916cb5bb9e",
   "metadata": {},
   "source": [
    "#### Option 2: MinMaxScaler (range 0–1) → good for Neural Networks, KNN."
   ]
  },
  {
   "cell_type": "code",
   "execution_count": 100,
   "id": "11d61d19-9e0c-4154-a4bd-cad3525b1a1c",
   "metadata": {},
   "outputs": [
    {
     "data": {
      "text/html": [
       "<div>\n",
       "<style scoped>\n",
       "    .dataframe tbody tr th:only-of-type {\n",
       "        vertical-align: middle;\n",
       "    }\n",
       "\n",
       "    .dataframe tbody tr th {\n",
       "        vertical-align: top;\n",
       "    }\n",
       "\n",
       "    .dataframe thead th {\n",
       "        text-align: right;\n",
       "    }\n",
       "</style>\n",
       "<table border=\"1\" class=\"dataframe\">\n",
       "  <thead>\n",
       "    <tr style=\"text-align: right;\">\n",
       "      <th></th>\n",
       "      <th>Age</th>\n",
       "      <th>entryEXAM</th>\n",
       "      <th>studyHOURS</th>\n",
       "      <th>Python</th>\n",
       "      <th>DB</th>\n",
       "      <th>Programming_Avg</th>\n",
       "      <th>Efficiency</th>\n",
       "      <th>Track_Performance</th>\n",
       "    </tr>\n",
       "  </thead>\n",
       "  <tbody>\n",
       "    <tr>\n",
       "      <th>count</th>\n",
       "      <td>76.000000</td>\n",
       "      <td>76.000000</td>\n",
       "      <td>76.000000</td>\n",
       "      <td>76.000000</td>\n",
       "      <td>76.000000</td>\n",
       "      <td>76.000000</td>\n",
       "      <td>76.000000</td>\n",
       "      <td>76.000000</td>\n",
       "    </tr>\n",
       "    <tr>\n",
       "      <th>mean</th>\n",
       "      <td>0.283947</td>\n",
       "      <td>0.696981</td>\n",
       "      <td>0.784897</td>\n",
       "      <td>0.767041</td>\n",
       "      <td>0.564286</td>\n",
       "      <td>0.677150</td>\n",
       "      <td>0.497929</td>\n",
       "      <td>0.250000</td>\n",
       "    </tr>\n",
       "    <tr>\n",
       "      <th>std</th>\n",
       "      <td>0.208206</td>\n",
       "      <td>0.229224</td>\n",
       "      <td>0.268572</td>\n",
       "      <td>0.222827</td>\n",
       "      <td>0.244921</td>\n",
       "      <td>0.215649</td>\n",
       "      <td>0.166584</td>\n",
       "      <td>0.147731</td>\n",
       "    </tr>\n",
       "    <tr>\n",
       "      <th>min</th>\n",
       "      <td>0.000000</td>\n",
       "      <td>0.000000</td>\n",
       "      <td>0.000000</td>\n",
       "      <td>0.000000</td>\n",
       "      <td>0.000000</td>\n",
       "      <td>0.000000</td>\n",
       "      <td>0.000000</td>\n",
       "      <td>0.000000</td>\n",
       "    </tr>\n",
       "    <tr>\n",
       "      <th>25%</th>\n",
       "      <td>0.120000</td>\n",
       "      <td>0.584559</td>\n",
       "      <td>0.652174</td>\n",
       "      <td>0.713115</td>\n",
       "      <td>0.367857</td>\n",
       "      <td>0.550813</td>\n",
       "      <td>0.388872</td>\n",
       "      <td>0.156716</td>\n",
       "    </tr>\n",
       "    <tr>\n",
       "      <th>50%</th>\n",
       "      <td>0.240000</td>\n",
       "      <td>0.742647</td>\n",
       "      <td>0.913043</td>\n",
       "      <td>0.836066</td>\n",
       "      <td>0.600000</td>\n",
       "      <td>0.703252</td>\n",
       "      <td>0.528448</td>\n",
       "      <td>0.216418</td>\n",
       "    </tr>\n",
       "    <tr>\n",
       "      <th>75%</th>\n",
       "      <td>0.420000</td>\n",
       "      <td>0.882353</td>\n",
       "      <td>0.956522</td>\n",
       "      <td>0.901639</td>\n",
       "      <td>0.757143</td>\n",
       "      <td>0.855691</td>\n",
       "      <td>0.627426</td>\n",
       "      <td>0.322761</td>\n",
       "    </tr>\n",
       "    <tr>\n",
       "      <th>max</th>\n",
       "      <td>1.000000</td>\n",
       "      <td>1.000000</td>\n",
       "      <td>1.000000</td>\n",
       "      <td>1.000000</td>\n",
       "      <td>1.000000</td>\n",
       "      <td>1.000000</td>\n",
       "      <td>1.000000</td>\n",
       "      <td>1.000000</td>\n",
       "    </tr>\n",
       "  </tbody>\n",
       "</table>\n",
       "</div>"
      ],
      "text/plain": [
       "             Age  entryEXAM  studyHOURS     Python         DB  \\\n",
       "count  76.000000  76.000000   76.000000  76.000000  76.000000   \n",
       "mean    0.283947   0.696981    0.784897   0.767041   0.564286   \n",
       "std     0.208206   0.229224    0.268572   0.222827   0.244921   \n",
       "min     0.000000   0.000000    0.000000   0.000000   0.000000   \n",
       "25%     0.120000   0.584559    0.652174   0.713115   0.367857   \n",
       "50%     0.240000   0.742647    0.913043   0.836066   0.600000   \n",
       "75%     0.420000   0.882353    0.956522   0.901639   0.757143   \n",
       "max     1.000000   1.000000    1.000000   1.000000   1.000000   \n",
       "\n",
       "       Programming_Avg  Efficiency  Track_Performance  \n",
       "count        76.000000   76.000000          76.000000  \n",
       "mean          0.677150    0.497929           0.250000  \n",
       "std           0.215649    0.166584           0.147731  \n",
       "min           0.000000    0.000000           0.000000  \n",
       "25%           0.550813    0.388872           0.156716  \n",
       "50%           0.703252    0.528448           0.216418  \n",
       "75%           0.855691    0.627426           0.322761  \n",
       "max           1.000000    1.000000           1.000000  "
      ]
     },
     "execution_count": 100,
     "metadata": {},
     "output_type": "execute_result"
    }
   ],
   "source": [
    "from sklearn.preprocessing import MinMaxScaler\n",
    "\n",
    "minmax = MinMaxScaler()\n",
    "df_minmax = df.copy()\n",
    "minmax.fit(df[numeric])\n",
    "df_minmax[numeric] = minmax.transform(df[numeric])\n",
    "df_minmax[numeric].describe()"
   ]
  },
  {
   "cell_type": "markdown",
   "id": "8ef6a1fd-0ac1-4ffb-9208-38d10a548f85",
   "metadata": {},
   "source": [
    "## Part 6 – Encoding Categorical Data"
   ]
  },
  {
   "cell_type": "markdown",
   "id": "c5038b52-8588-492a-be96-9eb8dc7f3186",
   "metadata": {},
   "source": [
    "### Detect Categorical Columns"
   ]
  },
  {
   "cell_type": "code",
   "execution_count": 101,
   "id": "5e9e0b7e-b174-47a7-bd60-0457b5dc3f90",
   "metadata": {},
   "outputs": [
    {
     "name": "stdout",
     "output_type": "stream",
     "text": [
      "<class 'pandas.core.frame.DataFrame'>\n",
      "Index: 76 entries, 0 to 76\n",
      "Data columns (total 16 columns):\n",
      " #   Column             Non-Null Count  Dtype  \n",
      "---  ------             --------------  -----  \n",
      " 0   fNAME              76 non-null     object \n",
      " 1   lNAME              76 non-null     object \n",
      " 2   Age                76 non-null     int64  \n",
      " 3   gender             76 non-null     object \n",
      " 4   country            76 non-null     object \n",
      " 5   residence          76 non-null     object \n",
      " 6   entryEXAM          76 non-null     int64  \n",
      " 7   prevEducation      76 non-null     object \n",
      " 8   studyHOURS         76 non-null     int64  \n",
      " 9   Python             76 non-null     float64\n",
      " 10  DB                 76 non-null     int64  \n",
      " 11  Programming_Avg    76 non-null     float64\n",
      " 12  isAdult            76 non-null     int64  \n",
      " 13  studyHOURS_cat     76 non-null     object \n",
      " 14  Efficiency         76 non-null     float64\n",
      " 15  Track_Performance  76 non-null     float64\n",
      "dtypes: float64(4), int64(5), object(7)\n",
      "memory usage: 10.1+ KB\n"
     ]
    }
   ],
   "source": [
    "df.info()"
   ]
  },
  {
   "cell_type": "markdown",
   "id": "5b95ecff-18c6-46d5-b488-adeea0d678d2",
   "metadata": {},
   "source": [
    "#### Categorical (nominal): gender, country, residence, studyHOURS_cat, isAdult (already binary)\n",
    "#### Categorical (ordinal): prevEducation"
   ]
  },
  {
   "cell_type": "markdown",
   "id": "ae1f86f6-53d4-4b92-89ba-349d740af66b",
   "metadata": {},
   "source": [
    "### Handle Encoding"
   ]
  },
  {
   "cell_type": "code",
   "execution_count": 102,
   "id": "a2b58b2f-8ec9-4c6a-9817-c9a30606f32d",
   "metadata": {},
   "outputs": [
    {
     "name": "stdout",
     "output_type": "stream",
     "text": [
      "<class 'pandas.core.frame.DataFrame'>\n",
      "Index: 76 entries, 0 to 76\n",
      "Data columns (total 37 columns):\n",
      " #   Column                  Non-Null Count  Dtype  \n",
      "---  ------                  --------------  -----  \n",
      " 0   fNAME                   76 non-null     object \n",
      " 1   lNAME                   76 non-null     object \n",
      " 2   Age                     76 non-null     int64  \n",
      " 3   entryEXAM               76 non-null     int64  \n",
      " 4   prevEducation           76 non-null     object \n",
      " 5   studyHOURS              76 non-null     int64  \n",
      " 6   Python                  76 non-null     float64\n",
      " 7   DB                      76 non-null     int64  \n",
      " 8   Programming_Avg         76 non-null     float64\n",
      " 9   isAdult                 76 non-null     int64  \n",
      " 10  Efficiency              76 non-null     float64\n",
      " 11  Track_Performance       76 non-null     float64\n",
      " 12  gender_Female           76 non-null     bool   \n",
      " 13  gender_Male             76 non-null     bool   \n",
      " 14  country_Denmark         76 non-null     bool   \n",
      " 15  country_France          76 non-null     bool   \n",
      " 16  country_Germany         76 non-null     bool   \n",
      " 17  country_Italy           76 non-null     bool   \n",
      " 18  country_Kenya           76 non-null     bool   \n",
      " 19  country_Netherlands     76 non-null     bool   \n",
      " 20  country_Nigeria         76 non-null     bool   \n",
      " 21  country_Norge           76 non-null     bool   \n",
      " 22  country_Norway          76 non-null     bool   \n",
      " 23  country_Somali          76 non-null     bool   \n",
      " 24  country_South Africa    76 non-null     bool   \n",
      " 25  country_Spain           76 non-null     bool   \n",
      " 26  country_Uganda          76 non-null     bool   \n",
      " 27  country_United Kingdom  76 non-null     bool   \n",
      " 28  residence_BI Residence  76 non-null     bool   \n",
      " 29  residence_BI-Residence  76 non-null     bool   \n",
      " 30  residence_BIResidence   76 non-null     bool   \n",
      " 31  residence_BI_Residence  76 non-null     bool   \n",
      " 32  residence_Private       76 non-null     bool   \n",
      " 33  residence_Sognsvann     76 non-null     bool   \n",
      " 34  studyHOURS_cat_High     76 non-null     bool   \n",
      " 35  studyHOURS_cat_Low      76 non-null     bool   \n",
      " 36  studyHOURS_cat_Medium   76 non-null     bool   \n",
      "dtypes: bool(25), float64(4), int64(5), object(3)\n",
      "memory usage: 9.6+ KB\n"
     ]
    }
   ],
   "source": [
    "df = pd.get_dummies(df, columns=['gender', 'country', 'residence', 'studyHOURS_cat'], drop_first=False)\n",
    "df.info()"
   ]
  },
  {
   "cell_type": "code",
   "execution_count": 103,
   "id": "1b70528c-2004-4548-8f67-2f19555c8fbb",
   "metadata": {},
   "outputs": [
    {
     "name": "stdout",
     "output_type": "stream",
     "text": [
      "<class 'pandas.core.frame.DataFrame'>\n",
      "Index: 76 entries, 0 to 76\n",
      "Data columns (total 38 columns):\n",
      " #   Column                  Non-Null Count  Dtype  \n",
      "---  ------                  --------------  -----  \n",
      " 0   fNAME                   76 non-null     object \n",
      " 1   lNAME                   76 non-null     object \n",
      " 2   Age                     76 non-null     int64  \n",
      " 3   entryEXAM               76 non-null     int64  \n",
      " 4   prevEducation           76 non-null     object \n",
      " 5   studyHOURS              76 non-null     int64  \n",
      " 6   Python                  76 non-null     float64\n",
      " 7   DB                      76 non-null     int64  \n",
      " 8   Programming_Avg         76 non-null     float64\n",
      " 9   isAdult                 76 non-null     int64  \n",
      " 10  Efficiency              76 non-null     float64\n",
      " 11  Track_Performance       76 non-null     float64\n",
      " 12  gender_Female           76 non-null     bool   \n",
      " 13  gender_Male             76 non-null     bool   \n",
      " 14  country_Denmark         76 non-null     bool   \n",
      " 15  country_France          76 non-null     bool   \n",
      " 16  country_Germany         76 non-null     bool   \n",
      " 17  country_Italy           76 non-null     bool   \n",
      " 18  country_Kenya           76 non-null     bool   \n",
      " 19  country_Netherlands     76 non-null     bool   \n",
      " 20  country_Nigeria         76 non-null     bool   \n",
      " 21  country_Norge           76 non-null     bool   \n",
      " 22  country_Norway          76 non-null     bool   \n",
      " 23  country_Somali          76 non-null     bool   \n",
      " 24  country_South Africa    76 non-null     bool   \n",
      " 25  country_Spain           76 non-null     bool   \n",
      " 26  country_Uganda          76 non-null     bool   \n",
      " 27  country_United Kingdom  76 non-null     bool   \n",
      " 28  residence_BI Residence  76 non-null     bool   \n",
      " 29  residence_BI-Residence  76 non-null     bool   \n",
      " 30  residence_BIResidence   76 non-null     bool   \n",
      " 31  residence_BI_Residence  76 non-null     bool   \n",
      " 32  residence_Private       76 non-null     bool   \n",
      " 33  residence_Sognsvann     76 non-null     bool   \n",
      " 34  studyHOURS_cat_High     76 non-null     bool   \n",
      " 35  studyHOURS_cat_Low      76 non-null     bool   \n",
      " 36  studyHOURS_cat_Medium   76 non-null     bool   \n",
      " 37  prevEducation_encoded   71 non-null     float64\n",
      "dtypes: bool(25), float64(5), int64(5), object(3)\n",
      "memory usage: 10.2+ KB\n"
     ]
    }
   ],
   "source": [
    "order = {\n",
    "    \"High School\": 0,\n",
    "    \"Diploma\": 1,\n",
    "    \"Bachelors\": 2,\n",
    "    \"Masters\": 3\n",
    "}\n",
    "df['prevEducation_encoded'] = df['prevEducation'].map(order)\n",
    "df.info()"
   ]
  },
  {
   "cell_type": "code",
   "execution_count": 104,
   "id": "cf36041a-c62f-4693-b283-a0807eb7826f",
   "metadata": {},
   "outputs": [
    {
     "data": {
      "text/html": [
       "<div>\n",
       "<style scoped>\n",
       "    .dataframe tbody tr th:only-of-type {\n",
       "        vertical-align: middle;\n",
       "    }\n",
       "\n",
       "    .dataframe tbody tr th {\n",
       "        vertical-align: top;\n",
       "    }\n",
       "\n",
       "    .dataframe thead th {\n",
       "        text-align: right;\n",
       "    }\n",
       "</style>\n",
       "<table border=\"1\" class=\"dataframe\">\n",
       "  <thead>\n",
       "    <tr style=\"text-align: right;\">\n",
       "      <th></th>\n",
       "      <th>fNAME</th>\n",
       "      <th>lNAME</th>\n",
       "      <th>Age</th>\n",
       "      <th>entryEXAM</th>\n",
       "      <th>prevEducation</th>\n",
       "      <th>studyHOURS</th>\n",
       "      <th>Python</th>\n",
       "      <th>DB</th>\n",
       "      <th>Programming_Avg</th>\n",
       "      <th>isAdult</th>\n",
       "      <th>...</th>\n",
       "      <th>residence_BI Residence</th>\n",
       "      <th>residence_BI-Residence</th>\n",
       "      <th>residence_BIResidence</th>\n",
       "      <th>residence_BI_Residence</th>\n",
       "      <th>residence_Private</th>\n",
       "      <th>residence_Sognsvann</th>\n",
       "      <th>studyHOURS_cat_High</th>\n",
       "      <th>studyHOURS_cat_Low</th>\n",
       "      <th>studyHOURS_cat_Medium</th>\n",
       "      <th>prevEducation_encoded</th>\n",
       "    </tr>\n",
       "  </thead>\n",
       "  <tbody>\n",
       "    <tr>\n",
       "      <th>0</th>\n",
       "      <td>Christina</td>\n",
       "      <td>Binger</td>\n",
       "      <td>44</td>\n",
       "      <td>72</td>\n",
       "      <td>Masters</td>\n",
       "      <td>158</td>\n",
       "      <td>59.0</td>\n",
       "      <td>55</td>\n",
       "      <td>57.0</td>\n",
       "      <td>1</td>\n",
       "      <td>...</td>\n",
       "      <td>False</td>\n",
       "      <td>False</td>\n",
       "      <td>False</td>\n",
       "      <td>False</td>\n",
       "      <td>True</td>\n",
       "      <td>False</td>\n",
       "      <td>True</td>\n",
       "      <td>False</td>\n",
       "      <td>False</td>\n",
       "      <td>3.0</td>\n",
       "    </tr>\n",
       "    <tr>\n",
       "      <th>1</th>\n",
       "      <td>Alex</td>\n",
       "      <td>Walekhwa</td>\n",
       "      <td>60</td>\n",
       "      <td>79</td>\n",
       "      <td>Diploma</td>\n",
       "      <td>150</td>\n",
       "      <td>60.0</td>\n",
       "      <td>75</td>\n",
       "      <td>67.5</td>\n",
       "      <td>1</td>\n",
       "      <td>...</td>\n",
       "      <td>False</td>\n",
       "      <td>False</td>\n",
       "      <td>False</td>\n",
       "      <td>False</td>\n",
       "      <td>True</td>\n",
       "      <td>False</td>\n",
       "      <td>True</td>\n",
       "      <td>False</td>\n",
       "      <td>False</td>\n",
       "      <td>1.0</td>\n",
       "    </tr>\n",
       "    <tr>\n",
       "      <th>2</th>\n",
       "      <td>Philip</td>\n",
       "      <td>Leo</td>\n",
       "      <td>25</td>\n",
       "      <td>55</td>\n",
       "      <td>High School</td>\n",
       "      <td>130</td>\n",
       "      <td>74.0</td>\n",
       "      <td>50</td>\n",
       "      <td>62.0</td>\n",
       "      <td>1</td>\n",
       "      <td>...</td>\n",
       "      <td>False</td>\n",
       "      <td>False</td>\n",
       "      <td>False</td>\n",
       "      <td>False</td>\n",
       "      <td>False</td>\n",
       "      <td>True</td>\n",
       "      <td>False</td>\n",
       "      <td>False</td>\n",
       "      <td>True</td>\n",
       "      <td>0.0</td>\n",
       "    </tr>\n",
       "    <tr>\n",
       "      <th>3</th>\n",
       "      <td>Shoni</td>\n",
       "      <td>Hlongwane</td>\n",
       "      <td>22</td>\n",
       "      <td>40</td>\n",
       "      <td>High School</td>\n",
       "      <td>120</td>\n",
       "      <td>81.0</td>\n",
       "      <td>44</td>\n",
       "      <td>62.5</td>\n",
       "      <td>0</td>\n",
       "      <td>...</td>\n",
       "      <td>False</td>\n",
       "      <td>False</td>\n",
       "      <td>False</td>\n",
       "      <td>False</td>\n",
       "      <td>False</td>\n",
       "      <td>True</td>\n",
       "      <td>False</td>\n",
       "      <td>False</td>\n",
       "      <td>True</td>\n",
       "      <td>0.0</td>\n",
       "    </tr>\n",
       "    <tr>\n",
       "      <th>4</th>\n",
       "      <td>Maria</td>\n",
       "      <td>Kedibone</td>\n",
       "      <td>23</td>\n",
       "      <td>65</td>\n",
       "      <td>High School</td>\n",
       "      <td>122</td>\n",
       "      <td>91.0</td>\n",
       "      <td>80</td>\n",
       "      <td>85.5</td>\n",
       "      <td>0</td>\n",
       "      <td>...</td>\n",
       "      <td>False</td>\n",
       "      <td>False</td>\n",
       "      <td>False</td>\n",
       "      <td>False</td>\n",
       "      <td>False</td>\n",
       "      <td>True</td>\n",
       "      <td>False</td>\n",
       "      <td>False</td>\n",
       "      <td>True</td>\n",
       "      <td>0.0</td>\n",
       "    </tr>\n",
       "  </tbody>\n",
       "</table>\n",
       "<p>5 rows × 38 columns</p>\n",
       "</div>"
      ],
      "text/plain": [
       "       fNAME      lNAME  Age  entryEXAM prevEducation  studyHOURS  Python  DB  \\\n",
       "0  Christina     Binger   44         72       Masters         158    59.0  55   \n",
       "1       Alex   Walekhwa   60         79       Diploma         150    60.0  75   \n",
       "2     Philip        Leo   25         55   High School         130    74.0  50   \n",
       "3      Shoni  Hlongwane   22         40   High School         120    81.0  44   \n",
       "4      Maria   Kedibone   23         65   High School         122    91.0  80   \n",
       "\n",
       "   Programming_Avg  isAdult  ...  residence_BI Residence  \\\n",
       "0             57.0        1  ...                   False   \n",
       "1             67.5        1  ...                   False   \n",
       "2             62.0        1  ...                   False   \n",
       "3             62.5        0  ...                   False   \n",
       "4             85.5        0  ...                   False   \n",
       "\n",
       "   residence_BI-Residence  residence_BIResidence  residence_BI_Residence  \\\n",
       "0                   False                  False                   False   \n",
       "1                   False                  False                   False   \n",
       "2                   False                  False                   False   \n",
       "3                   False                  False                   False   \n",
       "4                   False                  False                   False   \n",
       "\n",
       "   residence_Private  residence_Sognsvann  studyHOURS_cat_High  \\\n",
       "0               True                False                 True   \n",
       "1               True                False                 True   \n",
       "2              False                 True                False   \n",
       "3              False                 True                False   \n",
       "4              False                 True                False   \n",
       "\n",
       "   studyHOURS_cat_Low  studyHOURS_cat_Medium  prevEducation_encoded  \n",
       "0               False                  False                    3.0  \n",
       "1               False                  False                    1.0  \n",
       "2               False                   True                    0.0  \n",
       "3               False                   True                    0.0  \n",
       "4               False                   True                    0.0  \n",
       "\n",
       "[5 rows x 38 columns]"
      ]
     },
     "execution_count": 104,
     "metadata": {},
     "output_type": "execute_result"
    }
   ],
   "source": [
    "df.head()"
   ]
  },
  {
   "cell_type": "code",
   "execution_count": null,
   "id": "5d0908d6-ca65-4bf8-a34b-a35b14221b06",
   "metadata": {},
   "outputs": [],
   "source": []
  }
 ],
 "metadata": {
  "kernelspec": {
   "display_name": "Python [conda env:base]",
   "language": "python",
   "name": "conda-base-py"
  },
  "language_info": {
   "codemirror_mode": {
    "name": "ipython",
    "version": 3
   },
   "file_extension": ".py",
   "mimetype": "text/x-python",
   "name": "python",
   "nbconvert_exporter": "python",
   "pygments_lexer": "ipython3",
   "version": "3.13.5"
  }
 },
 "nbformat": 4,
 "nbformat_minor": 5
}
