{
 "cells": [
  {
   "cell_type": "markdown",
   "id": "c6f1fffa-9735-4db4-969a-15babaf50422",
   "metadata": {},
   "source": [
    "### Exercises ➞ Level 2"
   ]
  },
  {
   "cell_type": "markdown",
   "id": "dc6c9bbb-cbde-4abc-b411-d833259a6018",
   "metadata": {},
   "source": [
    "#### 1. Declare a function named capitalize_list_items. It takes a list as a parameter and it returns a capitalized list of items"
   ]
  },
  {
   "cell_type": "code",
   "execution_count": 1,
   "id": "ad92f696-3baf-42bc-920f-b6ca54930726",
   "metadata": {},
   "outputs": [
    {
     "name": "stdout",
     "output_type": "stream",
     "text": [
      "['MENNA', 'OMAR', 'ESLAM', 'LAYAL']\n"
     ]
    }
   ],
   "source": [
    "def capitalize_list_items(ListOfParameters):\n",
    "    capitalized_list = []\n",
    "    for item in ListOfParameters:\n",
    "        capitalized_list.append(item.upper())\n",
    "    return capitalized_list\n",
    "\n",
    "myList = [\"Menna\" , \"Omar\", \"Eslam\" , \"Layal\"]\n",
    "newList = []\n",
    "newList = capitalize_list_items (myList)\n",
    "print(newList)"
   ]
  },
  {
   "cell_type": "markdown",
   "id": "b3c2f7b3-ed6c-4624-b7bf-8b0517300620",
   "metadata": {},
   "source": [
    "#### 2. Declare a function named add_item. It takes a list and an item parameters. It returns a list with the item added at the end."
   ]
  },
  {
   "cell_type": "code",
   "execution_count": 10,
   "id": "fdf58091-8152-4953-a727-8cbed787b28a",
   "metadata": {},
   "outputs": [
    {
     "name": "stdout",
     "output_type": "stream",
     "text": [
      "['Menna', 'Omar', 'Eslam', 'Layal', 'Eissa']\n"
     ]
    }
   ],
   "source": [
    "def add_item (oldList , item):\n",
    "    oldList.append(item)\n",
    "    return oldList\n",
    "\n",
    "mylist2 = [\"Menna\" , \"Omar\", \"Eslam\" , \"Layal\"]\n",
    "addthis = \"Eissa\"\n",
    "newList2 = add_item (mylist2 , addthis)\n",
    "print (newList2)"
   ]
  },
  {
   "cell_type": "markdown",
   "id": "c0d354a1-0b46-4c71-a1d0-7682790bbc74",
   "metadata": {},
   "source": [
    "#### 3. Declare a function named reverse_list. It takes an array as a parameter and it returns the reverse of the array (use loops)."
   ]
  },
  {
   "cell_type": "code",
   "execution_count": 15,
   "id": "0ad9fd42-47b5-4269-980b-b60c8c16f800",
   "metadata": {},
   "outputs": [
    {
     "name": "stdout",
     "output_type": "stream",
     "text": [
      "['C', 'B', 'A'] [5, 4, 3, 2, 1]\n"
     ]
    }
   ],
   "source": [
    "def reverse_list (originalList):\n",
    "    reversedlist = []\n",
    "    for rev in originalList[::-1]:\n",
    "        reversedlist.append(rev)\n",
    "    return reversedlist\n",
    "original1 = [\"A\", \"B\", \"C\"]\n",
    "original2 = [1,2,3,4,5]\n",
    "revList1 = reverse_list(original1)\n",
    "revList2 = reverse_list(original2)\n",
    "print (revList1,revList2)"
   ]
  },
  {
   "cell_type": "markdown",
   "id": "5602eee9-944e-49fe-989b-ae241d014dc5",
   "metadata": {
    "jp-MarkdownHeadingCollapsed": true
   },
   "source": [
    "#### 4. Declare a function named evens_and_odds. It takes a positive integer as parameter and it counts number of evens and odds in the number.\""
   ]
  },
  {
   "cell_type": "code",
   "execution_count": 18,
   "id": "36e48b22-2faf-47ba-8393-3ed4128f0066",
   "metadata": {},
   "outputs": [
    {
     "name": "stdout",
     "output_type": "stream",
     "text": [
      "Kindly enter your integer number ..  100\n"
     ]
    },
    {
     "name": "stdout",
     "output_type": "stream",
     "text": [
      "the number includes 51 even numbers and 50 odd numbers \n"
     ]
    }
   ],
   "source": [
    "def evens_and_odds (number):\n",
    "    counteven = 0\n",
    "    countodd = 0\n",
    "    for num in range(0,number+1):\n",
    "        if num % 2 == 0:\n",
    "            counteven += 1\n",
    "        elif num %2 != 0:\n",
    "            countodd+= 1\n",
    "    return counteven, countodd\n",
    "\n",
    "Value = int(input(\"Kindly enter your integer number .. \"))\n",
    "evens, odds = evens_and_odds(Value)\n",
    "print (f\"the number includes {evens} even numbers and {odds} odd numbers \")"
   ]
  },
  {
   "cell_type": "markdown",
   "id": "e82e5e11-f08b-480d-8e4e-e7a531f05aa3",
   "metadata": {
    "jp-MarkdownHeadingCollapsed": true
   },
   "source": [
    "#### 5. Write different functions which take lists. They should calculate_mean, calculate_median, calculate_mode"
   ]
  },
  {
   "cell_type": "markdown",
   "id": "6fd76dd0-8e81-40c9-8363-543ea6f51c15",
   "metadata": {},
   "source": [
    "##### calculate_mean"
   ]
  },
  {
   "cell_type": "code",
   "execution_count": 21,
   "id": "5ea41092-75b7-451c-b2c5-31d7451537df",
   "metadata": {},
   "outputs": [
    {
     "name": "stdout",
     "output_type": "stream",
     "text": [
      "How many numbers will you enter  6\n",
      "Enter number 1:  15\n",
      "Enter number 2:  95\n",
      "Enter number 3:  951\n",
      "Enter number 4:  6185\n",
      "Enter number 5:  221\n",
      "Enter number 6:  54\n"
     ]
    },
    {
     "name": "stdout",
     "output_type": "stream",
     "text": [
      "1253.5\n"
     ]
    }
   ],
   "source": [
    "mean =0\n",
    "numbers = []\n",
    "def calculate_mean (*listofnumbers):\n",
    "    summition =0\n",
    "    for num in listofnumbers:\n",
    "        summition += num\n",
    "    meanValue = summition / len(listofnumbers)\n",
    "    return meanValue\n",
    "user_total = int (input(\"How many numbers will you enter \"))\n",
    "for i in range(user_total):\n",
    "    value = float(input(f\"Enter number {i+1}: \"))\n",
    "    numbers.append(value)\n",
    "mean = calculate_mean(*numbers)\n",
    "print (mean)"
   ]
  },
  {
   "cell_type": "markdown",
   "id": "b4e6e07c-1498-4bda-abe0-a6d62334b265",
   "metadata": {},
   "source": [
    "##### calculate_median"
   ]
  },
  {
   "cell_type": "code",
   "execution_count": 24,
   "id": "94d7c8d3-d153-4623-9113-8c9704a653eb",
   "metadata": {},
   "outputs": [
    {
     "name": "stdout",
     "output_type": "stream",
     "text": [
      "How many numbers will you enter  3\n",
      "Enter number 1:  55\n",
      "Enter number 2:  98\n",
      "Enter number 3:  12\n"
     ]
    },
    {
     "name": "stdout",
     "output_type": "stream",
     "text": [
      "the sorted list is [12.0, 55.0, 98.0] and the median is 55.0\n"
     ]
    }
   ],
   "source": [
    "median =0\n",
    "numbers = []\n",
    "sorted_list = []\n",
    "def calculate_median (*listofnumbers):\n",
    "    sorted_numbers = sorted(listofnumbers)\n",
    "    length = len(sorted_numbers)\n",
    "    middle = length // 2\n",
    "    if length % 2 == 0:\n",
    "        median = (sorted_numbers[middle - 1] + sorted_numbers[middle]) / 2\n",
    "    else:\n",
    "        median = sorted_numbers[middle]\n",
    "    return median , sorted_numbers\n",
    "user_total = int (input(\"How many numbers will you enter \"))\n",
    "for i in range(user_total):\n",
    "    value = float(input(f\"Enter number {i+1}: \"))\n",
    "    numbers.append(value)\n",
    "(median , sorted_list) = calculate_median(*numbers)\n",
    "print (f\"the sorted list is {sorted_list} and the median is {median}\")"
   ]
  },
  {
   "cell_type": "markdown",
   "id": "6d68650f-8865-4e78-a0fc-0282bef98bb2",
   "metadata": {},
   "source": [
    "##### calculate_mode"
   ]
  },
  {
   "cell_type": "code",
   "execution_count": 26,
   "id": "3b21c05b-5f91-4f92-af15-9a8d0272bc11",
   "metadata": {},
   "outputs": [
    {
     "name": "stdout",
     "output_type": "stream",
     "text": [
      "How many numbers will you enter  6\n",
      "Enter number 1:  1\n",
      "Enter number 2:  5\n",
      "Enter number 3:  6\n",
      "Enter number 4:  6\n",
      "Enter number 5:  6\n",
      "Enter number 6:  7\n"
     ]
    },
    {
     "name": "stdout",
     "output_type": "stream",
     "text": [
      "the most repeated value is 6.0 and is repeated 3 times\n"
     ]
    }
   ],
   "source": [
    "mode =0\n",
    "numbers = []\n",
    "\n",
    "def calculate_mode (*listofnumbers):\n",
    "    counter = {}\n",
    "    for count in listofnumbers:\n",
    "        if count in counter:\n",
    "            counter[count] += 1\n",
    "        else:\n",
    "            counter[count] = 1\n",
    "    counter = sorted(counter.items(), key = lambda item: item[1], reverse = True)\n",
    "    listofcounter = list(counter)\n",
    "    return listofcounter[0]\n",
    "user_total = int (input(\"How many numbers will you enter \"))\n",
    "for i in range(user_total):\n",
    "    value = float(input(f\"Enter number {i+1}: \"))\n",
    "    numbers.append(value)\n",
    "mode = calculate_mode(*numbers)\n",
    "print (f\"the most repeated value is {mode[0]} and is repeated {mode[1]} times\")"
   ]
  },
  {
   "cell_type": "markdown",
   "id": "775b596a-0bdc-44e9-9150-7ca3bb5cf68c",
   "metadata": {},
   "source": [
    "#### 6. Declare a function named print_list. It takes a list as a parameter and it prints out each element of the list."
   ]
  },
  {
   "cell_type": "code",
   "execution_count": 2,
   "id": "78287021-a427-4a3a-9348-f275b3e00f8e",
   "metadata": {},
   "outputs": [
    {
     "name": "stdout",
     "output_type": "stream",
     "text": [
      "Menna\n",
      "Omar\n",
      "Eslam\n",
      "Layal\n"
     ]
    }
   ],
   "source": [
    "def print_list (listofparam):\n",
    "    for parameter in listofparam:\n",
    "        print (parameter)\n",
    "print_list([\"Menna\" , \"Omar\", \"Eslam\" , \"Layal\"])"
   ]
  },
  {
   "cell_type": "markdown",
   "id": "5dc49f89-9efe-42bc-b42b-1d6c7401dc64",
   "metadata": {},
   "source": [
    "### Exercises ➞ Level 3"
   ]
  },
  {
   "cell_type": "markdown",
   "id": "ed0ebdab-ef7f-4386-b49f-e38f639073b1",
   "metadata": {},
   "source": [
    "#### 1. Write a function called is_prime, which checks if a number is prime."
   ]
  },
  {
   "cell_type": "code",
   "execution_count": 10,
   "id": "dcfdf22f-c2a2-4f22-ae02-8b82e70ce7f8",
   "metadata": {},
   "outputs": [
    {
     "data": {
      "text/plain": [
       "False"
      ]
     },
     "execution_count": 10,
     "metadata": {},
     "output_type": "execute_result"
    }
   ],
   "source": [
    "def is_prime(number):\n",
    "    if number <= 1:\n",
    "        return False\n",
    "    for i in range(2, number):\n",
    "        if number % i == 0:\n",
    "            return False\n",
    "    return True\n",
    "\n",
    "num = is_prime(-1)\n",
    "num"
   ]
  },
  {
   "cell_type": "markdown",
   "id": "e6effdca-9381-4023-9310-05c033e19552",
   "metadata": {},
   "source": [
    "#### 2. Write a functions which checks if all items are unique in the list."
   ]
  },
  {
   "cell_type": "code",
   "execution_count": 19,
   "id": "d1cd39f4-67d3-43dc-8ee2-94b28c6c81da",
   "metadata": {},
   "outputs": [
    {
     "data": {
      "text/plain": [
       "True"
      ]
     },
     "execution_count": 19,
     "metadata": {},
     "output_type": "execute_result"
    }
   ],
   "source": [
    "# Fisrt solution\n",
    "def is_unique (checkList):\n",
    "    for check in range(len(checkList)):\n",
    "        for c in range(check + 1, len(checkList)):\n",
    "            if checkList[check] == checkList [c]:\n",
    "                return False\n",
    "    return True\n",
    "\n",
    "is_unique([1,2,3,4])"
   ]
  },
  {
   "cell_type": "code",
   "execution_count": 18,
   "id": "c9d94c1a-cdc2-4bc2-892a-23b28b8a7ca4",
   "metadata": {},
   "outputs": [
    {
     "data": {
      "text/plain": [
       "False"
      ]
     },
     "execution_count": 18,
     "metadata": {},
     "output_type": "execute_result"
    }
   ],
   "source": [
    "# Second solution\n",
    "def is_uni (checkList):\n",
    "    if len(checkList) == len(set(checkList)):\n",
    "        return True\n",
    "    else:\n",
    "        return False\n",
    "is_uni([1,2,3,4,4])"
   ]
  },
  {
   "cell_type": "markdown",
   "id": "48c905b0-c429-491e-89e4-b0c533233534",
   "metadata": {},
   "source": [
    "#### 3. Write a function which checks if all the items of the list are of the same data type."
   ]
  },
  {
   "cell_type": "code",
   "execution_count": 38,
   "id": "f3010a1e-b4f1-4737-9194-612e4ad4ab5f",
   "metadata": {},
   "outputs": [
    {
     "data": {
      "text/plain": [
       "False"
      ]
     },
     "execution_count": 38,
     "metadata": {},
     "output_type": "execute_result"
    }
   ],
   "source": [
    "def is_same_datatype (checkList):\n",
    "    first_type = type(checkList[0])\n",
    "    for check in checkList:\n",
    "        if first_type != type(check):\n",
    "            return False\n",
    "    return True\n",
    "\n",
    "is_same_datatype(['a','b',3])"
   ]
  },
  {
   "cell_type": "markdown",
   "id": "b9f12368-2c0e-4851-992b-6d8c681685c5",
   "metadata": {},
   "source": [
    "#### 4. Write a function which check if provided variable is a valid python var"
   ]
  },
  {
   "cell_type": "code",
   "execution_count": null,
   "id": "4c0fe2f6-e5e6-4e35-9b5a-b961bb9f5365",
   "metadata": {},
   "outputs": [
    {
     "data": {
      "text/plain": [
       "False"
      ]
     },
     "execution_count": 44,
     "metadata": {},
     "output_type": "execute_result"
    }
   ],
   "source": [
    "from keyword import iskeyword\n",
    "def valid_var(var):\n",
    "    if var.isidentifier() and not iskeyword(var):\n",
    "        return True\n",
    "    else:\n",
    "        return False\n",
    "valid_var('False')"
   ]
  },
  {
   "cell_type": "code",
   "execution_count": null,
   "id": "c2fff31e",
   "metadata": {},
   "outputs": [],
   "source": []
  }
 ],
 "metadata": {
  "kernelspec": {
   "display_name": "Python [conda env:base]",
   "language": "python",
   "name": "conda-base-py"
  },
  "language_info": {
   "codemirror_mode": {
    "name": "ipython",
    "version": 3
   },
   "file_extension": ".py",
   "mimetype": "text/x-python",
   "name": "python",
   "nbconvert_exporter": "python",
   "pygments_lexer": "ipython3",
   "version": "3.13.5"
  }
 },
 "nbformat": 4,
 "nbformat_minor": 5
}
